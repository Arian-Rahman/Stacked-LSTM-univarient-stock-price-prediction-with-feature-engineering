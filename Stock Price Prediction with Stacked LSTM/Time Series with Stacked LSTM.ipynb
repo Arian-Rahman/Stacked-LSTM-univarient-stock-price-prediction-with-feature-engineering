{
 "cells": [
  {
   "cell_type": "code",
   "execution_count": 1,
   "metadata": {},
   "outputs": [],
   "source": [
    "import pandas as pd"
   ]
  },
  {
   "cell_type": "code",
   "execution_count": 2,
   "id": "ea146064",
   "metadata": {},
   "outputs": [
    {
     "data": {
      "text/html": [
       "<div>\n",
       "<style scoped>\n",
       "    .dataframe tbody tr th:only-of-type {\n",
       "        vertical-align: middle;\n",
       "    }\n",
       "\n",
       "    .dataframe tbody tr th {\n",
       "        vertical-align: top;\n",
       "    }\n",
       "\n",
       "    .dataframe thead th {\n",
       "        text-align: right;\n",
       "    }\n",
       "</style>\n",
       "<table border=\"1\" class=\"dataframe\">\n",
       "  <thead>\n",
       "    <tr style=\"text-align: right;\">\n",
       "      <th></th>\n",
       "      <th>Date</th>\n",
       "      <th>Open</th>\n",
       "      <th>High</th>\n",
       "      <th>Low</th>\n",
       "      <th>Close</th>\n",
       "      <th>Adj Close</th>\n",
       "      <th>Volume</th>\n",
       "    </tr>\n",
       "  </thead>\n",
       "  <tbody>\n",
       "    <tr>\n",
       "      <th>0</th>\n",
       "      <td>1980-12-12</td>\n",
       "      <td>0.128348</td>\n",
       "      <td>0.128906</td>\n",
       "      <td>0.128348</td>\n",
       "      <td>0.128348</td>\n",
       "      <td>0.100453</td>\n",
       "      <td>469033600</td>\n",
       "    </tr>\n",
       "    <tr>\n",
       "      <th>1</th>\n",
       "      <td>1980-12-15</td>\n",
       "      <td>0.122210</td>\n",
       "      <td>0.122210</td>\n",
       "      <td>0.121652</td>\n",
       "      <td>0.121652</td>\n",
       "      <td>0.095213</td>\n",
       "      <td>175884800</td>\n",
       "    </tr>\n",
       "    <tr>\n",
       "      <th>2</th>\n",
       "      <td>1980-12-16</td>\n",
       "      <td>0.113281</td>\n",
       "      <td>0.113281</td>\n",
       "      <td>0.112723</td>\n",
       "      <td>0.112723</td>\n",
       "      <td>0.088224</td>\n",
       "      <td>105728000</td>\n",
       "    </tr>\n",
       "    <tr>\n",
       "      <th>3</th>\n",
       "      <td>1980-12-17</td>\n",
       "      <td>0.115513</td>\n",
       "      <td>0.116071</td>\n",
       "      <td>0.115513</td>\n",
       "      <td>0.115513</td>\n",
       "      <td>0.090408</td>\n",
       "      <td>86441600</td>\n",
       "    </tr>\n",
       "    <tr>\n",
       "      <th>4</th>\n",
       "      <td>1980-12-18</td>\n",
       "      <td>0.118862</td>\n",
       "      <td>0.119420</td>\n",
       "      <td>0.118862</td>\n",
       "      <td>0.118862</td>\n",
       "      <td>0.093029</td>\n",
       "      <td>73449600</td>\n",
       "    </tr>\n",
       "  </tbody>\n",
       "</table>\n",
       "</div>"
      ],
      "text/plain": [
       "         Date      Open      High       Low     Close  Adj Close     Volume\n",
       "0  1980-12-12  0.128348  0.128906  0.128348  0.128348   0.100453  469033600\n",
       "1  1980-12-15  0.122210  0.122210  0.121652  0.121652   0.095213  175884800\n",
       "2  1980-12-16  0.113281  0.113281  0.112723  0.112723   0.088224  105728000\n",
       "3  1980-12-17  0.115513  0.116071  0.115513  0.115513   0.090408   86441600\n",
       "4  1980-12-18  0.118862  0.119420  0.118862  0.118862   0.093029   73449600"
      ]
     },
     "execution_count": 2,
     "metadata": {},
     "output_type": "execute_result"
    }
   ],
   "source": [
    "df = pd.read_csv(\"AAPL.csv\")\n",
    "df.head()"
   ]
  },
  {
   "cell_type": "code",
   "execution_count": 3,
   "id": "b00eda1e",
   "metadata": {},
   "outputs": [
    {
     "data": {
      "text/plain": [
       "(10336, 7)"
      ]
     },
     "execution_count": 3,
     "metadata": {},
     "output_type": "execute_result"
    }
   ],
   "source": [
    "df.shape"
   ]
  },
  {
   "cell_type": "markdown",
   "id": "b5972188",
   "metadata": {},
   "source": [
    "Too much data for a stock price problem , that's why dropping most of it"
   ]
  },
  {
   "cell_type": "code",
   "execution_count": 175,
   "id": "5532ba91",
   "metadata": {},
   "outputs": [
    {
     "data": {
      "text/html": [
       "<div>\n",
       "<style scoped>\n",
       "    .dataframe tbody tr th:only-of-type {\n",
       "        vertical-align: middle;\n",
       "    }\n",
       "\n",
       "    .dataframe tbody tr th {\n",
       "        vertical-align: top;\n",
       "    }\n",
       "\n",
       "    .dataframe thead th {\n",
       "        text-align: right;\n",
       "    }\n",
       "</style>\n",
       "<table border=\"1\" class=\"dataframe\">\n",
       "  <thead>\n",
       "    <tr style=\"text-align: right;\">\n",
       "      <th></th>\n",
       "      <th>Date</th>\n",
       "      <th>Open</th>\n",
       "      <th>High</th>\n",
       "      <th>Low</th>\n",
       "      <th>Close</th>\n",
       "      <th>Adj Close</th>\n",
       "      <th>Volume</th>\n",
       "    </tr>\n",
       "  </thead>\n",
       "  <tbody>\n",
       "    <tr>\n",
       "      <th>5000</th>\n",
       "      <td>2000-09-25</td>\n",
       "      <td>0.941964</td>\n",
       "      <td>0.991071</td>\n",
       "      <td>0.929688</td>\n",
       "      <td>0.955357</td>\n",
       "      <td>0.819090</td>\n",
       "      <td>435551200</td>\n",
       "    </tr>\n",
       "    <tr>\n",
       "      <th>5001</th>\n",
       "      <td>2000-09-26</td>\n",
       "      <td>0.952009</td>\n",
       "      <td>0.977679</td>\n",
       "      <td>0.917411</td>\n",
       "      <td>0.918527</td>\n",
       "      <td>0.787513</td>\n",
       "      <td>290936800</td>\n",
       "    </tr>\n",
       "    <tr>\n",
       "      <th>5002</th>\n",
       "      <td>2000-09-27</td>\n",
       "      <td>0.924107</td>\n",
       "      <td>0.941964</td>\n",
       "      <td>0.861607</td>\n",
       "      <td>0.873884</td>\n",
       "      <td>0.749238</td>\n",
       "      <td>402259200</td>\n",
       "    </tr>\n",
       "    <tr>\n",
       "      <th>5003</th>\n",
       "      <td>2000-09-28</td>\n",
       "      <td>0.880580</td>\n",
       "      <td>0.960938</td>\n",
       "      <td>0.859375</td>\n",
       "      <td>0.955357</td>\n",
       "      <td>0.819090</td>\n",
       "      <td>979585600</td>\n",
       "    </tr>\n",
       "    <tr>\n",
       "      <th>5004</th>\n",
       "      <td>2000-09-29</td>\n",
       "      <td>0.503348</td>\n",
       "      <td>0.517857</td>\n",
       "      <td>0.453125</td>\n",
       "      <td>0.459821</td>\n",
       "      <td>0.394234</td>\n",
       "      <td>7421640800</td>\n",
       "    </tr>\n",
       "  </tbody>\n",
       "</table>\n",
       "</div>"
      ],
      "text/plain": [
       "            Date      Open      High       Low     Close  Adj Close  \\\n",
       "5000  2000-09-25  0.941964  0.991071  0.929688  0.955357   0.819090   \n",
       "5001  2000-09-26  0.952009  0.977679  0.917411  0.918527   0.787513   \n",
       "5002  2000-09-27  0.924107  0.941964  0.861607  0.873884   0.749238   \n",
       "5003  2000-09-28  0.880580  0.960938  0.859375  0.955357   0.819090   \n",
       "5004  2000-09-29  0.503348  0.517857  0.453125  0.459821   0.394234   \n",
       "\n",
       "          Volume  \n",
       "5000   435551200  \n",
       "5001   290936800  \n",
       "5002   402259200  \n",
       "5003   979585600  \n",
       "5004  7421640800  "
      ]
     },
     "execution_count": 175,
     "metadata": {},
     "output_type": "execute_result"
    }
   ],
   "source": [
    "df1= df.drop(df.index[0:5000],axis=0)\n",
    "df1.head()"
   ]
  },
  {
   "cell_type": "code",
   "execution_count": 176,
   "id": "6bfb30d8",
   "metadata": {},
   "outputs": [
    {
     "data": {
      "text/html": [
       "<div>\n",
       "<style scoped>\n",
       "    .dataframe tbody tr th:only-of-type {\n",
       "        vertical-align: middle;\n",
       "    }\n",
       "\n",
       "    .dataframe tbody tr th {\n",
       "        vertical-align: top;\n",
       "    }\n",
       "\n",
       "    .dataframe thead th {\n",
       "        text-align: right;\n",
       "    }\n",
       "</style>\n",
       "<table border=\"1\" class=\"dataframe\">\n",
       "  <thead>\n",
       "    <tr style=\"text-align: right;\">\n",
       "      <th></th>\n",
       "      <th>Date</th>\n",
       "      <th>Open</th>\n",
       "      <th>High</th>\n",
       "      <th>Low</th>\n",
       "      <th>Close</th>\n",
       "      <th>Adj Close</th>\n",
       "      <th>Volume</th>\n",
       "    </tr>\n",
       "  </thead>\n",
       "  <tbody>\n",
       "    <tr>\n",
       "      <th>0</th>\n",
       "      <td>2000-09-25</td>\n",
       "      <td>0.941964</td>\n",
       "      <td>0.991071</td>\n",
       "      <td>0.929688</td>\n",
       "      <td>0.955357</td>\n",
       "      <td>0.819090</td>\n",
       "      <td>435551200</td>\n",
       "    </tr>\n",
       "    <tr>\n",
       "      <th>1</th>\n",
       "      <td>2000-09-26</td>\n",
       "      <td>0.952009</td>\n",
       "      <td>0.977679</td>\n",
       "      <td>0.917411</td>\n",
       "      <td>0.918527</td>\n",
       "      <td>0.787513</td>\n",
       "      <td>290936800</td>\n",
       "    </tr>\n",
       "    <tr>\n",
       "      <th>2</th>\n",
       "      <td>2000-09-27</td>\n",
       "      <td>0.924107</td>\n",
       "      <td>0.941964</td>\n",
       "      <td>0.861607</td>\n",
       "      <td>0.873884</td>\n",
       "      <td>0.749238</td>\n",
       "      <td>402259200</td>\n",
       "    </tr>\n",
       "    <tr>\n",
       "      <th>3</th>\n",
       "      <td>2000-09-28</td>\n",
       "      <td>0.880580</td>\n",
       "      <td>0.960938</td>\n",
       "      <td>0.859375</td>\n",
       "      <td>0.955357</td>\n",
       "      <td>0.819090</td>\n",
       "      <td>979585600</td>\n",
       "    </tr>\n",
       "    <tr>\n",
       "      <th>4</th>\n",
       "      <td>2000-09-29</td>\n",
       "      <td>0.503348</td>\n",
       "      <td>0.517857</td>\n",
       "      <td>0.453125</td>\n",
       "      <td>0.459821</td>\n",
       "      <td>0.394234</td>\n",
       "      <td>7421640800</td>\n",
       "    </tr>\n",
       "    <tr>\n",
       "      <th>5</th>\n",
       "      <td>2000-10-02</td>\n",
       "      <td>0.476563</td>\n",
       "      <td>0.477679</td>\n",
       "      <td>0.419643</td>\n",
       "      <td>0.433036</td>\n",
       "      <td>0.371270</td>\n",
       "      <td>2424788800</td>\n",
       "    </tr>\n",
       "    <tr>\n",
       "      <th>6</th>\n",
       "      <td>2000-10-03</td>\n",
       "      <td>0.445313</td>\n",
       "      <td>0.446429</td>\n",
       "      <td>0.396205</td>\n",
       "      <td>0.398438</td>\n",
       "      <td>0.341607</td>\n",
       "      <td>2038120000</td>\n",
       "    </tr>\n",
       "    <tr>\n",
       "      <th>7</th>\n",
       "      <td>2000-10-04</td>\n",
       "      <td>0.399554</td>\n",
       "      <td>0.424107</td>\n",
       "      <td>0.390625</td>\n",
       "      <td>0.421875</td>\n",
       "      <td>0.361701</td>\n",
       "      <td>1466024000</td>\n",
       "    </tr>\n",
       "    <tr>\n",
       "      <th>8</th>\n",
       "      <td>2000-10-05</td>\n",
       "      <td>0.419643</td>\n",
       "      <td>0.437500</td>\n",
       "      <td>0.392857</td>\n",
       "      <td>0.393973</td>\n",
       "      <td>0.337779</td>\n",
       "      <td>873006400</td>\n",
       "    </tr>\n",
       "    <tr>\n",
       "      <th>9</th>\n",
       "      <td>2000-10-06</td>\n",
       "      <td>0.405134</td>\n",
       "      <td>0.409598</td>\n",
       "      <td>0.375000</td>\n",
       "      <td>0.396205</td>\n",
       "      <td>0.339692</td>\n",
       "      <td>612656800</td>\n",
       "    </tr>\n",
       "    <tr>\n",
       "      <th>10</th>\n",
       "      <td>2000-10-09</td>\n",
       "      <td>0.404018</td>\n",
       "      <td>0.408482</td>\n",
       "      <td>0.377232</td>\n",
       "      <td>0.388393</td>\n",
       "      <td>0.332995</td>\n",
       "      <td>597564800</td>\n",
       "    </tr>\n",
       "    <tr>\n",
       "      <th>11</th>\n",
       "      <td>2000-10-10</td>\n",
       "      <td>0.386161</td>\n",
       "      <td>0.400670</td>\n",
       "      <td>0.366071</td>\n",
       "      <td>0.372768</td>\n",
       "      <td>0.319598</td>\n",
       "      <td>691101600</td>\n",
       "    </tr>\n",
       "    <tr>\n",
       "      <th>12</th>\n",
       "      <td>2000-10-11</td>\n",
       "      <td>0.359375</td>\n",
       "      <td>0.375000</td>\n",
       "      <td>0.341518</td>\n",
       "      <td>0.350446</td>\n",
       "      <td>0.300460</td>\n",
       "      <td>1198422400</td>\n",
       "    </tr>\n",
       "    <tr>\n",
       "      <th>13</th>\n",
       "      <td>2000-10-12</td>\n",
       "      <td>0.362723</td>\n",
       "      <td>0.371652</td>\n",
       "      <td>0.348214</td>\n",
       "      <td>0.357143</td>\n",
       "      <td>0.306202</td>\n",
       "      <td>1191064000</td>\n",
       "    </tr>\n",
       "    <tr>\n",
       "      <th>14</th>\n",
       "      <td>2000-10-13</td>\n",
       "      <td>0.361607</td>\n",
       "      <td>0.395089</td>\n",
       "      <td>0.357143</td>\n",
       "      <td>0.393973</td>\n",
       "      <td>0.337779</td>\n",
       "      <td>1247752800</td>\n",
       "    </tr>\n",
       "    <tr>\n",
       "      <th>15</th>\n",
       "      <td>2000-10-16</td>\n",
       "      <td>0.398438</td>\n",
       "      <td>0.415179</td>\n",
       "      <td>0.381696</td>\n",
       "      <td>0.383929</td>\n",
       "      <td>0.329167</td>\n",
       "      <td>820176000</td>\n",
       "    </tr>\n",
       "    <tr>\n",
       "      <th>16</th>\n",
       "      <td>2000-10-17</td>\n",
       "      <td>0.387277</td>\n",
       "      <td>0.391741</td>\n",
       "      <td>0.351563</td>\n",
       "      <td>0.359375</td>\n",
       "      <td>0.308116</td>\n",
       "      <td>601720000</td>\n",
       "    </tr>\n",
       "    <tr>\n",
       "      <th>17</th>\n",
       "      <td>2000-10-18</td>\n",
       "      <td>0.347098</td>\n",
       "      <td>0.376116</td>\n",
       "      <td>0.334821</td>\n",
       "      <td>0.359375</td>\n",
       "      <td>0.308116</td>\n",
       "      <td>834265600</td>\n",
       "    </tr>\n",
       "    <tr>\n",
       "      <th>18</th>\n",
       "      <td>2000-10-19</td>\n",
       "      <td>0.342076</td>\n",
       "      <td>0.353795</td>\n",
       "      <td>0.327009</td>\n",
       "      <td>0.338170</td>\n",
       "      <td>0.289935</td>\n",
       "      <td>1506724800</td>\n",
       "    </tr>\n",
       "    <tr>\n",
       "      <th>19</th>\n",
       "      <td>2000-10-20</td>\n",
       "      <td>0.340402</td>\n",
       "      <td>0.363839</td>\n",
       "      <td>0.338170</td>\n",
       "      <td>0.348214</td>\n",
       "      <td>0.298547</td>\n",
       "      <td>791263200</td>\n",
       "    </tr>\n",
       "  </tbody>\n",
       "</table>\n",
       "</div>"
      ],
      "text/plain": [
       "          Date      Open      High       Low     Close  Adj Close      Volume\n",
       "0   2000-09-25  0.941964  0.991071  0.929688  0.955357   0.819090   435551200\n",
       "1   2000-09-26  0.952009  0.977679  0.917411  0.918527   0.787513   290936800\n",
       "2   2000-09-27  0.924107  0.941964  0.861607  0.873884   0.749238   402259200\n",
       "3   2000-09-28  0.880580  0.960938  0.859375  0.955357   0.819090   979585600\n",
       "4   2000-09-29  0.503348  0.517857  0.453125  0.459821   0.394234  7421640800\n",
       "5   2000-10-02  0.476563  0.477679  0.419643  0.433036   0.371270  2424788800\n",
       "6   2000-10-03  0.445313  0.446429  0.396205  0.398438   0.341607  2038120000\n",
       "7   2000-10-04  0.399554  0.424107  0.390625  0.421875   0.361701  1466024000\n",
       "8   2000-10-05  0.419643  0.437500  0.392857  0.393973   0.337779   873006400\n",
       "9   2000-10-06  0.405134  0.409598  0.375000  0.396205   0.339692   612656800\n",
       "10  2000-10-09  0.404018  0.408482  0.377232  0.388393   0.332995   597564800\n",
       "11  2000-10-10  0.386161  0.400670  0.366071  0.372768   0.319598   691101600\n",
       "12  2000-10-11  0.359375  0.375000  0.341518  0.350446   0.300460  1198422400\n",
       "13  2000-10-12  0.362723  0.371652  0.348214  0.357143   0.306202  1191064000\n",
       "14  2000-10-13  0.361607  0.395089  0.357143  0.393973   0.337779  1247752800\n",
       "15  2000-10-16  0.398438  0.415179  0.381696  0.383929   0.329167   820176000\n",
       "16  2000-10-17  0.387277  0.391741  0.351563  0.359375   0.308116   601720000\n",
       "17  2000-10-18  0.347098  0.376116  0.334821  0.359375   0.308116   834265600\n",
       "18  2000-10-19  0.342076  0.353795  0.327009  0.338170   0.289935  1506724800\n",
       "19  2000-10-20  0.340402  0.363839  0.338170  0.348214   0.298547   791263200"
      ]
     },
     "execution_count": 176,
     "metadata": {},
     "output_type": "execute_result"
    }
   ],
   "source": [
    "df1.reset_index(drop=True, inplace=True)\n",
    "df1.head(20)"
   ]
  },
  {
   "cell_type": "code",
   "execution_count": 177,
   "id": "3ba79188",
   "metadata": {},
   "outputs": [],
   "source": [
    "# here we're only going to work with the closing value for the day \n",
    "\n",
    "df2 = df1['Close']"
   ]
  },
  {
   "cell_type": "code",
   "execution_count": 178,
   "id": "ba21fee0",
   "metadata": {},
   "outputs": [
    {
     "data": {
      "text/plain": [
       "0    0.955357\n",
       "1    0.918527\n",
       "2    0.873884\n",
       "3    0.955357\n",
       "4    0.459821\n",
       "Name: Close, dtype: float64"
      ]
     },
     "execution_count": 178,
     "metadata": {},
     "output_type": "execute_result"
    }
   ],
   "source": [
    "df2.head()"
   ]
  },
  {
   "cell_type": "code",
   "execution_count": 179,
   "id": "a09d52fd",
   "metadata": {},
   "outputs": [
    {
     "data": {
      "text/plain": [
       "[<matplotlib.lines.Line2D at 0x7fba82201d30>]"
      ]
     },
     "execution_count": 179,
     "metadata": {},
     "output_type": "execute_result"
    },
    {
     "data": {
      "image/png": "[encoded data removed]",
      "text/plain": [
       "<Figure size 432x288 with 1 Axes>"
      ]
     },
     "metadata": {
      "needs_background": "light"
     },
     "output_type": "display_data"
    }
   ],
   "source": [
    "import matplotlib.pyplot as plt\n",
    "\n",
    "plt.plot(df2)"
   ]
  },
  {
   "cell_type": "markdown",
   "id": "15aeec0b",
   "metadata": {},
   "source": [
    "**Since LSTM is sensitive to data distribution,we'll scale it using MinMax**"
   ]
  },
  {
   "cell_type": "code",
   "execution_count": 180,
   "id": "c24f5360",
   "metadata": {},
   "outputs": [
    {
     "name": "stdout",
     "output_type": "stream",
     "text": [
      "[[0.00412404]\n",
      " [0.0039134 ]\n",
      " [0.00365807]\n",
      " ...\n",
      " [0.94417939]\n",
      " [0.97769457]\n",
      " [1.        ]]\n"
     ]
    }
   ],
   "source": [
    "import numpy as np \n",
    "from sklearn.preprocessing import MinMaxScaler\n",
    "scaler = MinMaxScaler(feature_range=(0,1))\n",
    "\n",
    "df2= scaler.fit_transform(np.array(df2).reshape(-1,1))\n",
    "#Reshape to 2D array using NP otherwise it'll show this error \n",
    "# \"Expected 2D array, got 1D array instead:\"\"\n",
    "\n",
    "print(df2)"
   ]
  },
  {
   "cell_type": "markdown",
   "id": "80b5b6cc",
   "metadata": {},
   "source": [
    "**Now our dataset is in np array mode and we need to split it.** \n",
    "**But since it's a timeseries problem,we need to take the sequence into account**\n"
   ]
  },
  {
   "cell_type": "code",
   "execution_count": 181,
   "id": "8b4dd469",
   "metadata": {},
   "outputs": [],
   "source": [
    "train_size =  int(len(df2)*0.65) \n",
    "# 65% of data == training size\n",
    "test_size = len(df2)-train_size\n",
    "\n",
    "train_data , test_data = df2[0:train_size], df2[train_size:len(df2)]\n"
   ]
  },
  {
   "cell_type": "code",
   "execution_count": 182,
   "id": "56157c9d",
   "metadata": {},
   "outputs": [
    {
     "data": {
      "text/plain": [
       "(3468, 1868)"
      ]
     },
     "execution_count": 182,
     "metadata": {},
     "output_type": "execute_result"
    }
   ],
   "source": [
    "train_size,test_size"
   ]
  },
  {
   "cell_type": "code",
   "execution_count": 183,
   "id": "f6fe5777",
   "metadata": {},
   "outputs": [
    {
     "data": {
      "text/plain": [
       "array([[0.00412404],\n",
       "       [0.0039134 ],\n",
       "       [0.00365807],\n",
       "       [0.00412404],\n",
       "       [0.00128991],\n",
       "       [0.00113672],\n",
       "       [0.00093884],\n",
       "       [0.00107288],\n",
       "       [0.0009133 ],\n",
       "       [0.00092607]])"
      ]
     },
     "execution_count": 183,
     "metadata": {},
     "output_type": "execute_result"
    }
   ],
   "source": [
    "train_data[0:10]"
   ]
  },
  {
   "cell_type": "code",
   "execution_count": 184,
   "id": "08740582",
   "metadata": {},
   "outputs": [
    {
     "data": {
      "text/plain": [
       "array([[0.13480864],\n",
       "       [0.13656733],\n",
       "       [0.13495163],\n",
       "       [0.13417952],\n",
       "       [0.1317631 ],\n",
       "       [0.13367908],\n",
       "       [0.13297847],\n",
       "       [0.13409373],\n",
       "       [0.13762542],\n",
       "       [0.13739664]])"
      ]
     },
     "execution_count": 184,
     "metadata": {},
     "output_type": "execute_result"
    }
   ],
   "source": [
    "test_data[0:10]"
   ]
  },
  {
   "cell_type": "markdown",
   "id": "4317eda7",
   "metadata": {},
   "source": [
    "Now we need to process the data for a timeseries problem . \n",
    "For a timestep, we need to take that amount of data into consideration and have a test\n",
    "dataset to validate the next timestep data .\n",
    "which means, \n",
    "if X= 1,2,3,4,5 and timesetep is 3 , \n",
    "take 1,2,3 into account to predit 4 , so 4 needs to be on Y .\n",
    "It'll keeep on going , one setp at a time"
   ]
  },
  {
   "cell_type": "code",
   "execution_count": 185,
   "id": "6a58fb04",
   "metadata": {},
   "outputs": [],
   "source": [
    "def create_dataset(dataset,time_step):\n",
    "    X,Y=[],[]\n",
    "    for i in range (len(dataset)-time_step-1):\n",
    "        # for 100 data with 10 ts,it'll visit 0 to 89,otherwise the last few lines of data will have uneven data count\n",
    "        a= dataset[i:(i+time_step),0] #the timestep we're subtracting from loop is accounted here \n",
    "        X.append(a)\n",
    "        Y.append(dataset[i+time_step,0])\n",
    "    return np.array(X),np.array(Y)\n",
    "        "
   ]
  },
  {
   "cell_type": "code",
   "execution_count": 186,
   "id": "15fd9440",
   "metadata": {},
   "outputs": [],
   "source": [
    "time_step = 100\n",
    "X_train,y_train = create_dataset(train_data,time_step)\n",
    "X_test,y_test = create_dataset(test_data,time_step)"
   ]
  },
  {
   "cell_type": "code",
   "execution_count": 187,
   "id": "1ae301ee",
   "metadata": {},
   "outputs": [
    {
     "name": "stdout",
     "output_type": "stream",
     "text": [
      "(3367, 100)\n",
      "(3367,)\n"
     ]
    }
   ],
   "source": [
    "print(X_train.shape)\n",
    "print(y_train.shape)"
   ]
  },
  {
   "cell_type": "markdown",
   "id": "ad01e9e2",
   "metadata": {},
   "source": [
    "**LSTM needs 3D data as input so, we need to reshape the data**\n",
    "\n",
    "source-  https://machinelearningmastery.com/reshape-input-data-long-short-term-memory-networks-keras/"
   ]
  },
  {
   "cell_type": "code",
   "execution_count": 188,
   "id": "7c5856d5",
   "metadata": {},
   "outputs": [
    {
     "name": "stdout",
     "output_type": "stream",
     "text": [
      "(3367, 100, 1)\n"
     ]
    }
   ],
   "source": [
    "# adding an extra dimention \n",
    "X_train =X_train.reshape(X_train.shape[0],X_train.shape[1], 1) \n",
    "X_test = X_test.reshape(X_test.shape[0],X_test.shape[1] , 1)\n",
    "print(X_train.shape)\n"
   ]
  },
  {
   "cell_type": "markdown",
   "id": "15f24073",
   "metadata": {},
   "source": [
    "**Now we're going to make our model with stacked LSTM**"
   ]
  },
  {
   "cell_type": "code",
   "execution_count": 189,
   "id": "a65b8644",
   "metadata": {},
   "outputs": [],
   "source": [
    "import tensorflow as tf \n",
    "from tensorflow import keras \n",
    "from tensorflow.keras.models import Sequential\n",
    "from tensorflow.keras.layers import Dense,LSTM"
   ]
  },
  {
   "cell_type": "markdown",
   "id": "16633d25",
   "metadata": {},
   "source": [
    "Keras LSTM documentation = https://keras.io/api/layers/recurrent_layers/lstm/\n",
    "NOTE: \n",
    "    That **return sequences** return the hidden state output for each input time step.\n",
    "    That **return state** returns the hidden state output and cell state for the last input time step.\n",
    "    That return sequences and return state can be used at the same time.\n"
   ]
  },
  {
   "cell_type": "markdown",
   "id": "51247e04",
   "metadata": {},
   "source": [
    "Generally, we do not need to access the cell state unless we are developing sophisticated models where subsequent layers may need to have their cell state initialized with the final cell state of another layer, such as in an encoder-decoder model.\n",
    "\n"
   ]
  },
  {
   "cell_type": "code",
   "execution_count": 190,
   "id": "da548ddd",
   "metadata": {},
   "outputs": [
    {
     "name": "stdout",
     "output_type": "stream",
     "text": [
      "Model: \"sequential_1\"\n",
      "_________________________________________________________________\n",
      " Layer (type)                Output Shape              Param #   \n",
      "=================================================================\n",
      " lstm_3 (LSTM)               (None, 100, 50)           10400     \n",
      "                                                                 \n",
      " lstm_4 (LSTM)               (None, 100, 50)           20200     \n",
      "                                                                 \n",
      " lstm_5 (LSTM)               (None, 50)                20200     \n",
      "                                                                 \n",
      " dense_1 (Dense)             (None, 1)                 51        \n",
      "                                                                 \n",
      "=================================================================\n",
      "Total params: 50,851\n",
      "Trainable params: 50,851\n",
      "Non-trainable params: 0\n",
      "_________________________________________________________________\n"
     ]
    }
   ],
   "source": [
    "model=Sequential()\n",
    "model.add(LSTM(50,return_sequences=True,input_shape=(100,1)))\n",
    "model.add(LSTM(50,return_sequences=True))\n",
    "model.add(LSTM(50,)) \n",
    "#You must set return_sequences=True when stacking LSTM layers so that \n",
    "#the second LSTM layer has a three-dimensional sequence input.\n",
    "model.add(Dense(1))\n",
    "model.compile(loss='mean_squared_error',optimizer='adam')\n",
    "\n",
    "model.summary()"
   ]
  },
  {
   "cell_type": "markdown",
   "id": "8ecc1e0a",
   "metadata": {},
   "source": [
    "**Useful article for LSTM return seq** = https://machinelearningmastery.com/return-sequences-and-return-states-for-lstms-in-keras/"
   ]
  },
  {
   "cell_type": "code",
   "execution_count": 191,
   "id": "1fe4c2a8",
   "metadata": {},
   "outputs": [
    {
     "name": "stdout",
     "output_type": "stream",
     "text": [
      "Epoch 1/100\n",
      "53/53 [==============================] - 13s 157ms/step - loss: 2.4197e-04 - val_loss: 0.0018\n",
      "Epoch 2/100\n",
      "53/53 [==============================] - 7s 122ms/step - loss: 1.0725e-05 - val_loss: 0.0024\n",
      "Epoch 3/100\n",
      "53/53 [==============================] - 7s 135ms/step - loss: 9.7760e-06 - val_loss: 0.0029\n",
      "Epoch 4/100\n",
      "53/53 [==============================] - 8s 149ms/step - loss: 9.2464e-06 - val_loss: 0.0032\n",
      "Epoch 5/100\n",
      "53/53 [==============================] - 7s 139ms/step - loss: 9.0799e-06 - val_loss: 0.0036\n",
      "Epoch 6/100\n",
      "53/53 [==============================] - 7s 140ms/step - loss: 8.2616e-06 - val_loss: 0.0039\n",
      "Epoch 7/100\n",
      "53/53 [==============================] - 8s 142ms/step - loss: 7.7890e-06 - val_loss: 0.0032\n",
      "Epoch 8/100\n",
      "53/53 [==============================] - 8s 143ms/step - loss: 8.2373e-06 - val_loss: 0.0046\n",
      "Epoch 9/100\n",
      "53/53 [==============================] - 7s 139ms/step - loss: 8.9666e-06 - val_loss: 0.0035\n",
      "Epoch 10/100\n",
      "53/53 [==============================] - 8s 144ms/step - loss: 6.9526e-06 - val_loss: 0.0036\n",
      "Epoch 11/100\n",
      "53/53 [==============================] - 7s 138ms/step - loss: 8.8547e-06 - val_loss: 0.0042\n",
      "Epoch 12/100\n",
      "53/53 [==============================] - 8s 148ms/step - loss: 7.0682e-06 - val_loss: 0.0039\n",
      "Epoch 13/100\n",
      "53/53 [==============================] - 7s 139ms/step - loss: 6.9592e-06 - val_loss: 0.0045\n",
      "Epoch 14/100\n",
      "53/53 [==============================] - 7s 142ms/step - loss: 6.8376e-06 - val_loss: 0.0044\n",
      "Epoch 15/100\n",
      "53/53 [==============================] - 8s 144ms/step - loss: 8.8973e-06 - val_loss: 0.0046\n",
      "Epoch 16/100\n",
      "53/53 [==============================] - 8s 145ms/step - loss: 8.2906e-06 - val_loss: 0.0028\n",
      "Epoch 17/100\n",
      "53/53 [==============================] - 7s 141ms/step - loss: 6.2518e-06 - val_loss: 0.0035\n",
      "Epoch 18/100\n",
      "53/53 [==============================] - 7s 133ms/step - loss: 5.8698e-06 - val_loss: 0.0027\n",
      "Epoch 19/100\n",
      "53/53 [==============================] - 7s 138ms/step - loss: 6.2600e-06 - val_loss: 0.0031\n",
      "Epoch 20/100\n",
      "53/53 [==============================] - 7s 139ms/step - loss: 6.0202e-06 - val_loss: 0.0033\n",
      "Epoch 21/100\n",
      "53/53 [==============================] - 7s 139ms/step - loss: 6.6281e-06 - val_loss: 0.0036\n",
      "Epoch 22/100\n",
      "53/53 [==============================] - 7s 136ms/step - loss: 5.7885e-06 - val_loss: 0.0029\n",
      "Epoch 23/100\n",
      "53/53 [==============================] - 7s 138ms/step - loss: 5.9115e-06 - val_loss: 0.0015\n",
      "Epoch 24/100\n",
      "53/53 [==============================] - 7s 138ms/step - loss: 6.2757e-06 - val_loss: 0.0039\n",
      "Epoch 25/100\n",
      "53/53 [==============================] - 7s 137ms/step - loss: 7.6761e-06 - val_loss: 0.0022\n",
      "Epoch 26/100\n",
      "53/53 [==============================] - 7s 139ms/step - loss: 7.2551e-06 - val_loss: 0.0021\n",
      "Epoch 27/100\n",
      "53/53 [==============================] - 7s 140ms/step - loss: 5.7170e-06 - val_loss: 0.0013\n",
      "Epoch 28/100\n",
      "53/53 [==============================] - 7s 140ms/step - loss: 5.1194e-06 - val_loss: 0.0020\n",
      "Epoch 29/100\n",
      "53/53 [==============================] - 7s 138ms/step - loss: 5.0941e-06 - val_loss: 0.0011\n",
      "Epoch 30/100\n",
      "53/53 [==============================] - 7s 139ms/step - loss: 5.5513e-06 - val_loss: 0.0017\n",
      "Epoch 31/100\n",
      "53/53 [==============================] - 7s 139ms/step - loss: 6.3776e-06 - val_loss: 0.0018\n",
      "Epoch 32/100\n",
      "53/53 [==============================] - 7s 139ms/step - loss: 5.5810e-06 - val_loss: 0.0023\n",
      "Epoch 33/100\n",
      "53/53 [==============================] - 7s 139ms/step - loss: 6.3673e-06 - val_loss: 0.0016\n",
      "Epoch 34/100\n",
      "53/53 [==============================] - 7s 137ms/step - loss: 4.5091e-06 - val_loss: 0.0015\n",
      "Epoch 35/100\n",
      "53/53 [==============================] - 7s 140ms/step - loss: 4.8248e-06 - val_loss: 0.0010\n",
      "Epoch 36/100\n",
      "53/53 [==============================] - 7s 138ms/step - loss: 5.0990e-06 - val_loss: 0.0012\n",
      "Epoch 37/100\n",
      "53/53 [==============================] - 7s 141ms/step - loss: 4.8359e-06 - val_loss: 0.0015\n",
      "Epoch 38/100\n",
      "53/53 [==============================] - 7s 139ms/step - loss: 4.7017e-06 - val_loss: 0.0015\n",
      "Epoch 39/100\n",
      "53/53 [==============================] - 7s 139ms/step - loss: 5.1123e-06 - val_loss: 0.0010\n",
      "Epoch 40/100\n",
      "53/53 [==============================] - 7s 136ms/step - loss: 4.9491e-06 - val_loss: 0.0013\n",
      "Epoch 41/100\n",
      "53/53 [==============================] - 7s 140ms/step - loss: 5.0704e-06 - val_loss: 0.0012\n",
      "Epoch 42/100\n",
      "53/53 [==============================] - 8s 143ms/step - loss: 5.0360e-06 - val_loss: 6.0626e-04\n",
      "Epoch 43/100\n",
      "53/53 [==============================] - 7s 137ms/step - loss: 4.3949e-06 - val_loss: 9.7675e-04\n",
      "Epoch 44/100\n",
      "53/53 [==============================] - 7s 138ms/step - loss: 3.8967e-06 - val_loss: 8.6020e-04\n",
      "Epoch 45/100\n",
      "53/53 [==============================] - 7s 139ms/step - loss: 4.3168e-06 - val_loss: 0.0011\n",
      "Epoch 46/100\n",
      "53/53 [==============================] - 7s 139ms/step - loss: 4.4144e-06 - val_loss: 0.0012\n",
      "Epoch 47/100\n",
      "53/53 [==============================] - 7s 137ms/step - loss: 3.6945e-06 - val_loss: 9.2807e-04\n",
      "Epoch 48/100\n",
      "53/53 [==============================] - 8s 147ms/step - loss: 4.5735e-06 - val_loss: 0.0012\n",
      "Epoch 49/100\n",
      "53/53 [==============================] - 7s 139ms/step - loss: 4.1037e-06 - val_loss: 0.0014\n",
      "Epoch 50/100\n",
      "53/53 [==============================] - 7s 139ms/step - loss: 4.1831e-06 - val_loss: 7.9227e-04\n",
      "Epoch 51/100\n",
      "53/53 [==============================] - 7s 138ms/step - loss: 4.5333e-06 - val_loss: 0.0012\n",
      "Epoch 52/100\n",
      "53/53 [==============================] - 7s 140ms/step - loss: 4.4200e-06 - val_loss: 0.0016\n",
      "Epoch 53/100\n",
      "53/53 [==============================] - 7s 139ms/step - loss: 3.5349e-06 - val_loss: 9.8859e-04\n",
      "Epoch 54/100\n",
      "53/53 [==============================] - 7s 139ms/step - loss: 3.3330e-06 - val_loss: 5.9707e-04\n",
      "Epoch 55/100\n",
      "53/53 [==============================] - 7s 140ms/step - loss: 3.6186e-06 - val_loss: 0.0011\n",
      "Epoch 56/100\n",
      "53/53 [==============================] - 7s 137ms/step - loss: 4.1130e-06 - val_loss: 8.8655e-04\n",
      "Epoch 57/100\n",
      "53/53 [==============================] - 7s 141ms/step - loss: 3.9137e-06 - val_loss: 0.0012\n",
      "Epoch 58/100\n",
      "53/53 [==============================] - 7s 141ms/step - loss: 3.6924e-06 - val_loss: 6.6536e-04\n",
      "Epoch 59/100\n",
      "53/53 [==============================] - 7s 137ms/step - loss: 3.5843e-06 - val_loss: 5.3973e-04\n",
      "Epoch 60/100\n",
      "53/53 [==============================] - 7s 138ms/step - loss: 3.5706e-06 - val_loss: 0.0011\n",
      "Epoch 61/100\n",
      "53/53 [==============================] - 7s 140ms/step - loss: 2.9592e-06 - val_loss: 6.6756e-04\n",
      "Epoch 62/100\n",
      "53/53 [==============================] - 7s 137ms/step - loss: 3.0969e-06 - val_loss: 6.1501e-04\n",
      "Epoch 63/100\n",
      "53/53 [==============================] - 7s 137ms/step - loss: 3.0609e-06 - val_loss: 8.5694e-04\n",
      "Epoch 64/100\n",
      "53/53 [==============================] - 7s 139ms/step - loss: 3.5341e-06 - val_loss: 7.5592e-04\n",
      "Epoch 65/100\n",
      "53/53 [==============================] - 7s 138ms/step - loss: 3.2521e-06 - val_loss: 8.6690e-04\n",
      "Epoch 66/100\n",
      "53/53 [==============================] - 7s 137ms/step - loss: 3.3684e-06 - val_loss: 0.0011\n",
      "Epoch 67/100\n",
      "53/53 [==============================] - 7s 139ms/step - loss: 3.0549e-06 - val_loss: 2.8409e-04\n",
      "Epoch 68/100\n",
      "53/53 [==============================] - 7s 139ms/step - loss: 3.5900e-06 - val_loss: 4.0225e-04\n",
      "Epoch 69/100\n",
      "53/53 [==============================] - 7s 136ms/step - loss: 3.2786e-06 - val_loss: 2.9638e-04\n",
      "Epoch 70/100\n",
      "53/53 [==============================] - 7s 140ms/step - loss: 2.8573e-06 - val_loss: 6.1746e-04\n",
      "Epoch 71/100\n",
      "53/53 [==============================] - 7s 140ms/step - loss: 3.1165e-06 - val_loss: 8.1123e-04\n",
      "Epoch 72/100\n",
      "53/53 [==============================] - 7s 136ms/step - loss: 2.9814e-06 - val_loss: 8.8857e-04\n",
      "Epoch 73/100\n",
      "53/53 [==============================] - 7s 139ms/step - loss: 3.0367e-06 - val_loss: 6.5793e-04\n",
      "Epoch 74/100\n",
      "53/53 [==============================] - 7s 138ms/step - loss: 2.3783e-06 - val_loss: 6.9477e-04\n",
      "Epoch 75/100\n",
      "53/53 [==============================] - 7s 142ms/step - loss: 2.3575e-06 - val_loss: 7.0789e-04\n",
      "Epoch 76/100\n",
      "53/53 [==============================] - 7s 142ms/step - loss: 2.4845e-06 - val_loss: 6.1586e-04\n",
      "Epoch 77/100\n",
      "53/53 [==============================] - 7s 141ms/step - loss: 2.6999e-06 - val_loss: 7.7780e-04\n",
      "Epoch 78/100\n",
      "53/53 [==============================] - 7s 140ms/step - loss: 2.6274e-06 - val_loss: 5.7110e-04\n",
      "Epoch 79/100\n",
      "53/53 [==============================] - 7s 136ms/step - loss: 2.4283e-06 - val_loss: 3.8380e-04\n",
      "Epoch 80/100\n",
      "53/53 [==============================] - 7s 139ms/step - loss: 2.3290e-06 - val_loss: 6.3320e-04\n",
      "Epoch 81/100\n",
      "53/53 [==============================] - 7s 138ms/step - loss: 2.3028e-06 - val_loss: 4.0385e-04\n",
      "Epoch 82/100\n",
      "53/53 [==============================] - 7s 140ms/step - loss: 2.4229e-06 - val_loss: 8.1819e-04\n",
      "Epoch 83/100\n",
      "53/53 [==============================] - 7s 136ms/step - loss: 2.5818e-06 - val_loss: 5.5830e-04\n",
      "Epoch 84/100\n",
      "53/53 [==============================] - 7s 140ms/step - loss: 2.0859e-06 - val_loss: 3.9222e-04\n",
      "Epoch 85/100\n",
      "53/53 [==============================] - 7s 140ms/step - loss: 2.2521e-06 - val_loss: 5.9916e-04\n",
      "Epoch 86/100\n",
      "53/53 [==============================] - 7s 140ms/step - loss: 2.4139e-06 - val_loss: 3.4745e-04\n",
      "Epoch 87/100\n",
      "53/53 [==============================] - 7s 136ms/step - loss: 2.3484e-06 - val_loss: 6.5218e-04\n",
      "Epoch 88/100\n",
      "53/53 [==============================] - 7s 139ms/step - loss: 2.6761e-06 - val_loss: 2.9972e-04\n",
      "Epoch 89/100\n",
      "53/53 [==============================] - 7s 140ms/step - loss: 2.7979e-06 - val_loss: 3.2308e-04\n",
      "Epoch 90/100\n",
      "53/53 [==============================] - 7s 138ms/step - loss: 2.3727e-06 - val_loss: 4.9137e-04\n",
      "Epoch 91/100\n",
      "53/53 [==============================] - 7s 139ms/step - loss: 2.3784e-06 - val_loss: 3.3358e-04\n",
      "Epoch 92/100\n",
      "53/53 [==============================] - 7s 140ms/step - loss: 2.6247e-06 - val_loss: 3.9955e-04\n",
      "Epoch 93/100\n",
      "53/53 [==============================] - 7s 138ms/step - loss: 2.6201e-06 - val_loss: 2.3469e-04\n",
      "Epoch 94/100\n",
      "53/53 [==============================] - 8s 143ms/step - loss: 2.6999e-06 - val_loss: 8.0669e-04\n",
      "Epoch 95/100\n",
      "53/53 [==============================] - 7s 138ms/step - loss: 2.1944e-06 - val_loss: 1.4320e-04\n",
      "Epoch 96/100\n",
      "53/53 [==============================] - 8s 148ms/step - loss: 2.0833e-06 - val_loss: 1.9850e-04\n",
      "Epoch 97/100\n",
      "53/53 [==============================] - 7s 137ms/step - loss: 1.9785e-06 - val_loss: 2.4823e-04\n",
      "Epoch 98/100\n",
      "53/53 [==============================] - 7s 140ms/step - loss: 2.2505e-06 - val_loss: 2.8889e-04\n",
      "Epoch 99/100\n",
      "53/53 [==============================] - 7s 138ms/step - loss: 1.6482e-06 - val_loss: 1.4504e-04\n",
      "Epoch 100/100\n",
      "53/53 [==============================] - 7s 138ms/step - loss: 2.8394e-06 - val_loss: 2.9469e-04\n"
     ]
    },
    {
     "data": {
      "text/plain": [
       "<keras.callbacks.History at 0x7fba824cacd0>"
      ]
     },
     "execution_count": 191,
     "metadata": {},
     "output_type": "execute_result"
    }
   ],
   "source": [
    "model.fit(X_train,y_train,validation_data=\n",
    "          (X_test,y_test),epochs=100,batch_size=64,verbose=1)"
   ]
  },
  {
   "cell_type": "markdown",
   "id": "1bc48929",
   "metadata": {},
   "source": [
    "**Now that the model is trained, let's try to plot our predictions**"
   ]
  },
  {
   "cell_type": "code",
   "execution_count": 192,
   "id": "3e884eca",
   "metadata": {},
   "outputs": [],
   "source": [
    "train_predict = model.predict(X_train)\n",
    "test_predict = model.predict(X_test)"
   ]
  },
  {
   "cell_type": "markdown",
   "id": "168d82d9",
   "metadata": {},
   "source": [
    "We did some transformation on our data to make it easier for LSTM to train on. \n",
    "But for plottign purpose,we need to revert the output we get from LSTM network into \n",
    "proper data.\n"
   ]
  },
  {
   "cell_type": "code",
   "execution_count": 193,
   "id": "a73e3076",
   "metadata": {},
   "outputs": [],
   "source": [
    "train_predict=scaler.inverse_transform(train_predict) #inverse minmax scaling \n",
    "test_predict=scaler.inverse_transform(test_predict)"
   ]
  },
  {
   "cell_type": "markdown",
   "id": "58e8eb3e",
   "metadata": {},
   "source": [
    "For sensitive data, we use RMSE , Since the errors are squared before they are averaged, the RMSE gives a relatively high weight to large errors. This means the RMSE is most useful when large errors are particularly undesirable."
   ]
  },
  {
   "cell_type": "code",
   "execution_count": 194,
   "id": "a2254f26",
   "metadata": {},
   "outputs": [
    {
     "data": {
      "text/plain": [
       "9.723806187090887"
      ]
     },
     "execution_count": 194,
     "metadata": {},
     "output_type": "execute_result"
    }
   ],
   "source": [
    "import math  \n",
    "from sklearn.metrics import mean_squared_error\n",
    "math.sqrt(mean_squared_error(y_train,train_predict))"
   ]
  },
  {
   "cell_type": "code",
   "execution_count": 195,
   "id": "d92eadc7",
   "metadata": {},
   "outputs": [
    {
     "data": {
      "text/plain": [
       "68.64151787330525"
      ]
     },
     "execution_count": 195,
     "metadata": {},
     "output_type": "execute_result"
    }
   ],
   "source": [
    "math.sqrt(mean_squared_error(y_test,test_predict))"
   ]
  },
  {
   "cell_type": "markdown",
   "id": "7b959750",
   "metadata": {},
   "source": [
    "For RMSE, the lower the score the better "
   ]
  },
  {
   "cell_type": "code",
   "execution_count": 196,
   "id": "78a17b66",
   "metadata": {},
   "outputs": [
    {
     "data": {
      "image/png": "[encoded data removed]",
      "text/plain": [
       "<Figure size 432x288 with 1 Axes>"
      ]
     },
     "metadata": {
      "needs_background": "light"
     },
     "output_type": "display_data"
    }
   ],
   "source": [
    "### Plotting \n",
    "# shift train predictions for plotting\n",
    "look_back=100\n",
    "trainPredictPlot = np.empty_like(df2)\n",
    "trainPredictPlot[:, :] = np.nan\n",
    "trainPredictPlot[look_back:len(train_predict)+look_back, :] = train_predict\n",
    "# shift test predictions for plotting\n",
    "testPredictPlot = np.empty_like(df2)\n",
    "testPredictPlot[:, :] = np.nan\n",
    "testPredictPlot[len(train_predict)+(look_back*2)+1:len(df2)-1, :] = test_predict\n",
    "# plot baseline and predictions\n",
    "plt.plot(scaler.inverse_transform(df2))\n",
    "plt.plot(trainPredictPlot)\n",
    "plt.plot(testPredictPlot)\n",
    "plt.show()"
   ]
  },
  {
   "cell_type": "markdown",
   "id": "bcc03c71",
   "metadata": {},
   "source": [
    "Now let's try to plot for the future 100 data "
   ]
  },
  {
   "cell_type": "code",
   "execution_count": 197,
   "id": "49df7ba5",
   "metadata": {},
   "outputs": [
    {
     "name": "stdout",
     "output_type": "stream",
     "text": [
      "1868\n"
     ]
    }
   ],
   "source": [
    "l= len(test_data)\n",
    "print(l)"
   ]
  },
  {
   "cell_type": "code",
   "execution_count": 198,
   "id": "08b8f6b2",
   "metadata": {},
   "outputs": [
    {
     "name": "stdout",
     "output_type": "stream",
     "text": [
      "[[0.8345398 ]\n",
      " [0.8302503 ]\n",
      " [0.83825741]\n",
      " [0.8483234 ]\n",
      " [0.85078275]\n",
      " [0.83808584]\n",
      " [0.82784819]\n",
      " [0.83162297]\n",
      " [0.83288123]\n",
      " [0.83093668]]\n"
     ]
    }
   ],
   "source": [
    "x_input = test_data[(l-100):]\n",
    "print(x_input[0:10])"
   ]
  },
  {
   "cell_type": "code",
   "execution_count": 199,
   "id": "80c96263",
   "metadata": {},
   "outputs": [
    {
     "name": "stdout",
     "output_type": "stream",
     "text": [
      "[[0.8345398  0.8302503  0.83825741 0.8483234  0.85078275 0.83808584\n",
      "  0.82784819 0.83162297 0.83288123 0.83093668 0.84146022 0.83911527\n",
      "  0.83974441 0.83448263 0.83419665 0.83139423 0.83288123 0.85021078\n",
      "  0.85141188 0.86296486 0.85764593 0.83574089 0.83768544 0.84620727\n",
      "  0.85490068 0.85438587 0.84717955 0.84248966 0.84855222 0.87440352\n",
      "  0.86702562 0.87091473 0.87743476 0.88115237 0.89482156 0.88578501\n",
      "  0.87983695 0.85066834 0.85398556 0.84580688 0.85101149 0.84963882\n",
      "  0.83402508 0.8161808  0.81898322 0.83282407 0.83842898 0.8389437\n",
      "  0.83007872 0.8102899  0.81555167 0.80794495 0.81452215 0.79444733\n",
      "  0.80571442 0.81080462 0.81818251 0.81595198 0.81543726 0.80800212\n",
      "  0.80457057 0.82087061 0.82704749 0.83682758 0.84946725 0.85232691\n",
      "  0.85358517 0.84906693 0.84878095 0.85267014 0.84998205 0.87125796\n",
      "  0.85541539 0.85061118 0.85667365 0.86508107 0.86204984 0.86387998\n",
      "  0.85907576 0.86119189 0.84466303 0.84437704 0.85650208 0.85655924\n",
      "  0.86227857 0.87651973 0.90157033 0.91689817 0.91958626 0.9218168\n",
      "  0.92484803 0.89550785 0.91512519 0.94406498 0.94103374 0.93525717\n",
      "  0.92427606 0.94417939 0.97769457 1.        ]]\n"
     ]
    }
   ],
   "source": [
    "x_input = test_data[(l-100):].reshape(1,-1)\n",
    "print(x_input)"
   ]
  },
  {
   "cell_type": "code",
   "execution_count": 200,
   "id": "e4657363",
   "metadata": {},
   "outputs": [
    {
     "name": "stdout",
     "output_type": "stream",
     "text": [
      "(1, 100)\n"
     ]
    },
    {
     "data": {
      "text/plain": [
       "[0.8345397950728172,\n",
       " 0.8302502990693806,\n",
       " 0.8382574097497476,\n",
       " 0.848323398441172,\n",
       " 0.8507827495184382,\n",
       " 0.8380858356289381,\n",
       " 0.8278481927461122,\n",
       " 0.8316229663871203,\n",
       " 0.8328812299867845,\n",
       " 0.8309366756232105]"
      ]
     },
     "execution_count": 200,
     "metadata": {},
     "output_type": "execute_result"
    }
   ],
   "source": [
    "x_input = test_data[(l-100):].reshape(1,-1)\n",
    "print(x_input.shape)\n",
    "list(x_input[0])[0:10]"
   ]
  },
  {
   "cell_type": "code",
   "execution_count": 201,
   "id": "cc6f664a",
   "metadata": {},
   "outputs": [],
   "source": [
    "temp_input=list(x_input)\n",
    "temp_input=temp_input[0].tolist()\n"
   ]
  },
  {
   "cell_type": "code",
   "execution_count": 202,
   "id": "dfbde2ac",
   "metadata": {},
   "outputs": [
    {
     "data": {
      "text/plain": [
       "[0.8345397950728172,\n",
       " 0.8302502990693806,\n",
       " 0.8382574097497476,\n",
       " 0.848323398441172,\n",
       " 0.8507827495184382,\n",
       " 0.8380858356289381,\n",
       " 0.8278481927461122,\n",
       " 0.8316229663871203,\n",
       " 0.8328812299867845,\n",
       " 0.8309366756232105]"
      ]
     },
     "execution_count": 202,
     "metadata": {},
     "output_type": "execute_result"
    }
   ],
   "source": [
    "temp_input[0:10]"
   ]
  },
  {
   "cell_type": "markdown",
   "id": "351854c1",
   "metadata": {},
   "source": [
    "We'll try to predict data for next 30 days from the 100 test data values"
   ]
  },
  {
   "cell_type": "code",
   "execution_count": 203,
   "id": "8f615d9c",
   "metadata": {},
   "outputs": [
    {
     "data": {
      "text/plain": [
       "100"
      ]
     },
     "execution_count": 203,
     "metadata": {},
     "output_type": "execute_result"
    }
   ],
   "source": [
    "len(temp_input)"
   ]
  },
  {
   "cell_type": "code",
   "execution_count": null,
   "id": "6d3ac5f3",
   "metadata": {},
   "outputs": [],
   "source": []
  },
  {
   "cell_type": "code",
   "execution_count": 204,
   "id": "cce01d61",
   "metadata": {},
   "outputs": [
    {
     "name": "stdout",
     "output_type": "stream",
     "text": [
      "1 day output [[0.9226613]]\n",
      "2 day output [[0.89850587]]\n",
      "3 day output [[0.8680109]]\n",
      "4 day output [[0.83495957]]\n",
      "5 day output [[0.8011354]]\n",
      "6 day output [[0.7678422]]\n",
      "7 day output [[0.7361702]]\n",
      "8 day output [[0.7069395]]\n",
      "9 day output [[0.6806359]]\n",
      "10 day output [[0.6574011]]\n",
      "11 day output [[0.6370743]]\n",
      "12 day output [[0.6192657]]\n",
      "13 day output [[0.60344183]]\n",
      "14 day output [[0.58901453]]\n",
      "15 day output [[0.5754165]]\n",
      "16 day output [[0.56216127]]\n",
      "17 day output [[0.54888135]]\n",
      "18 day output [[0.535346]]\n",
      "19 day output [[0.5214603]]\n",
      "20 day output [[0.5072506]]\n",
      "21 day output [[0.4928385]]\n",
      "22 day output [[0.4784101]]\n",
      "23 day output [[0.46418336]]\n",
      "24 day output [[0.45037693]]\n",
      "25 day output [[0.4371843]]\n",
      "26 day output [[0.42475495]]\n",
      "27 day output [[0.41318336]]\n",
      "28 day output [[0.4025063]]\n",
      "29 day output [[0.39270762]]\n"
     ]
    }
   ],
   "source": [
    "outputs=[]\n",
    "n_steps = 100 \n",
    "i=0 \n",
    "while (i<30):\n",
    "    if(len(temp_input)>100):\n",
    "        x_input=np.array(temp_input[1:]) #if temp inp == 101, we shift out the first value\n",
    "        #print(\"{} day input {}\".format(i,x_input))\n",
    "        x_input=x_input.reshape(1,-1) # this reshape is important aftert an np operation\n",
    "        x_input = x_input.reshape(1,n_steps,1) #reshaped for lstm\n",
    "        predicted=model.predict(x_input,verbose=0) \n",
    "        print(\"{} day output {}\".format(i,predicted))\n",
    "        temp_input.extend(predicted[0].tolist()) #saving predicted data\n",
    "        temp_input=temp_input[1:] #shifting temp input by 1 \n",
    "        #print(temp_input)\n",
    "        outputs.extend(predicted.tolist()) \n",
    "        i=i+1\n",
    "        \n",
    "    else :\n",
    "        x_input= x_input.reshape((1,n_steps,1)) #reshaping for LSTM\n",
    "        predicted = model.predict(x_input,verbose=0)\n",
    "        temp_input.extend(predicted[0].tolist()) #adding the prediction to temp input\n",
    "        outputs.extend(predicted.tolist())\n",
    "        i+=1\n",
    "        \n",
    "        \n"
   ]
  },
  {
   "cell_type": "code",
   "execution_count": 205,
   "id": "9cadfbf1",
   "metadata": {},
   "outputs": [
    {
     "name": "stdout",
     "output_type": "stream",
     "text": [
      "0 day input [0.86702562 0.87091473 0.87743476 0.88115237 0.89482156 0.88578501\n",
      " 0.87983695 0.85066834 0.85398556 0.84580688 0.85101149 0.84963882\n",
      " 0.83402508 0.8161808  0.81898322 0.83282407 0.83842898 0.8389437\n",
      " 0.83007872 0.8102899  0.81555167 0.80794495 0.81452215 0.79444733\n",
      " 0.80571442 0.81080462 0.81818251 0.81595198 0.81543726 0.80800212\n",
      " 0.80457057 0.82087061 0.82704749 0.83682758 0.84946725 0.85232691\n",
      " 0.85358517 0.84906693 0.84878095 0.85267014 0.84998205 0.87125796\n",
      " 0.85541539 0.85061118 0.85667365 0.86508107 0.86204984 0.86387998\n",
      " 0.85907576 0.86119189 0.84466303 0.84437704 0.85650208 0.85655924\n",
      " 0.86227857 0.87651973 0.90157033 0.91689817 0.91958626 0.9218168\n",
      " 0.92484803 0.89550785 0.91512519 0.94406498 0.94103374 0.93525717\n",
      " 0.92427606 0.94417939 0.97769457 1.         0.93077713 0.9226613\n",
      " 0.89850587 0.86801088 0.83495957 0.80113542 0.76784217 0.73617017\n",
      " 0.70693952 0.68063593 0.65740108 0.63707429 0.61926568 0.60344183\n",
      " 0.58901453 0.57541651 0.56216127 0.54888135 0.53534597 0.52146029\n",
      " 0.50725061 0.4928385  0.47841009 0.46418336 0.45037693 0.4371843\n",
      " 0.42475495 0.41318336 0.40250629 0.39270762]\n",
      "0 day output [[0.38372752]]\n",
      "1 day input [0.87091473 0.87743476 0.88115237 0.89482156 0.88578501 0.87983695\n",
      " 0.85066834 0.85398556 0.84580688 0.85101149 0.84963882 0.83402508\n",
      " 0.8161808  0.81898322 0.83282407 0.83842898 0.8389437  0.83007872\n",
      " 0.8102899  0.81555167 0.80794495 0.81452215 0.79444733 0.80571442\n",
      " 0.81080462 0.81818251 0.81595198 0.81543726 0.80800212 0.80457057\n",
      " 0.82087061 0.82704749 0.83682758 0.84946725 0.85232691 0.85358517\n",
      " 0.84906693 0.84878095 0.85267014 0.84998205 0.87125796 0.85541539\n",
      " 0.85061118 0.85667365 0.86508107 0.86204984 0.86387998 0.85907576\n",
      " 0.86119189 0.84466303 0.84437704 0.85650208 0.85655924 0.86227857\n",
      " 0.87651973 0.90157033 0.91689817 0.91958626 0.9218168  0.92484803\n",
      " 0.89550785 0.91512519 0.94406498 0.94103374 0.93525717 0.92427606\n",
      " 0.94417939 0.97769457 1.         0.93077713 0.9226613  0.89850587\n",
      " 0.86801088 0.83495957 0.80113542 0.76784217 0.73617017 0.70693952\n",
      " 0.68063593 0.65740108 0.63707429 0.61926568 0.60344183 0.58901453\n",
      " 0.57541651 0.56216127 0.54888135 0.53534597 0.52146029 0.50725061\n",
      " 0.4928385  0.47841009 0.46418336 0.45037693 0.4371843  0.42475495\n",
      " 0.41318336 0.40250629 0.39270762 0.38372752]\n",
      "1 day output [[0.3754757]]\n",
      "2 day input [0.87743476 0.88115237 0.89482156 0.88578501 0.87983695 0.85066834\n",
      " 0.85398556 0.84580688 0.85101149 0.84963882 0.83402508 0.8161808\n",
      " 0.81898322 0.83282407 0.83842898 0.8389437  0.83007872 0.8102899\n",
      " 0.81555167 0.80794495 0.81452215 0.79444733 0.80571442 0.81080462\n",
      " 0.81818251 0.81595198 0.81543726 0.80800212 0.80457057 0.82087061\n",
      " 0.82704749 0.83682758 0.84946725 0.85232691 0.85358517 0.84906693\n",
      " 0.84878095 0.85267014 0.84998205 0.87125796 0.85541539 0.85061118\n",
      " 0.85667365 0.86508107 0.86204984 0.86387998 0.85907576 0.86119189\n",
      " 0.84466303 0.84437704 0.85650208 0.85655924 0.86227857 0.87651973\n",
      " 0.90157033 0.91689817 0.91958626 0.9218168  0.92484803 0.89550785\n",
      " 0.91512519 0.94406498 0.94103374 0.93525717 0.92427606 0.94417939\n",
      " 0.97769457 1.         0.93077713 0.9226613  0.89850587 0.86801088\n",
      " 0.83495957 0.80113542 0.76784217 0.73617017 0.70693952 0.68063593\n",
      " 0.65740108 0.63707429 0.61926568 0.60344183 0.58901453 0.57541651\n",
      " 0.56216127 0.54888135 0.53534597 0.52146029 0.50725061 0.4928385\n",
      " 0.47841009 0.46418336 0.45037693 0.4371843  0.42475495 0.41318336\n",
      " 0.40250629 0.39270762 0.38372752 0.3754757 ]\n",
      "2 day output [[0.36784554]]\n",
      "3 day input [0.88115237 0.89482156 0.88578501 0.87983695 0.85066834 0.85398556\n",
      " 0.84580688 0.85101149 0.84963882 0.83402508 0.8161808  0.81898322\n",
      " 0.83282407 0.83842898 0.8389437  0.83007872 0.8102899  0.81555167\n",
      " 0.80794495 0.81452215 0.79444733 0.80571442 0.81080462 0.81818251\n",
      " 0.81595198 0.81543726 0.80800212 0.80457057 0.82087061 0.82704749\n",
      " 0.83682758 0.84946725 0.85232691 0.85358517 0.84906693 0.84878095\n",
      " 0.85267014 0.84998205 0.87125796 0.85541539 0.85061118 0.85667365\n",
      " 0.86508107 0.86204984 0.86387998 0.85907576 0.86119189 0.84466303\n",
      " 0.84437704 0.85650208 0.85655924 0.86227857 0.87651973 0.90157033\n",
      " 0.91689817 0.91958626 0.9218168  0.92484803 0.89550785 0.91512519\n",
      " 0.94406498 0.94103374 0.93525717 0.92427606 0.94417939 0.97769457\n",
      " 1.         0.93077713 0.9226613  0.89850587 0.86801088 0.83495957\n",
      " 0.80113542 0.76784217 0.73617017 0.70693952 0.68063593 0.65740108\n",
      " 0.63707429 0.61926568 0.60344183 0.58901453 0.57541651 0.56216127\n",
      " 0.54888135 0.53534597 0.52146029 0.50725061 0.4928385  0.47841009\n",
      " 0.46418336 0.45037693 0.4371843  0.42475495 0.41318336 0.40250629\n",
      " 0.39270762 0.38372752 0.3754757  0.36784554]\n",
      "3 day output [[0.36072716]]\n",
      "4 day input [0.89482156 0.88578501 0.87983695 0.85066834 0.85398556 0.84580688\n",
      " 0.85101149 0.84963882 0.83402508 0.8161808  0.81898322 0.83282407\n",
      " 0.83842898 0.8389437  0.83007872 0.8102899  0.81555167 0.80794495\n",
      " 0.81452215 0.79444733 0.80571442 0.81080462 0.81818251 0.81595198\n",
      " 0.81543726 0.80800212 0.80457057 0.82087061 0.82704749 0.83682758\n",
      " 0.84946725 0.85232691 0.85358517 0.84906693 0.84878095 0.85267014\n",
      " 0.84998205 0.87125796 0.85541539 0.85061118 0.85667365 0.86508107\n",
      " 0.86204984 0.86387998 0.85907576 0.86119189 0.84466303 0.84437704\n",
      " 0.85650208 0.85655924 0.86227857 0.87651973 0.90157033 0.91689817\n",
      " 0.91958626 0.9218168  0.92484803 0.89550785 0.91512519 0.94406498\n",
      " 0.94103374 0.93525717 0.92427606 0.94417939 0.97769457 1.\n",
      " 0.93077713 0.9226613  0.89850587 0.86801088 0.83495957 0.80113542\n",
      " 0.76784217 0.73617017 0.70693952 0.68063593 0.65740108 0.63707429\n",
      " 0.61926568 0.60344183 0.58901453 0.57541651 0.56216127 0.54888135\n",
      " 0.53534597 0.52146029 0.50725061 0.4928385  0.47841009 0.46418336\n",
      " 0.45037693 0.4371843  0.42475495 0.41318336 0.40250629 0.39270762\n",
      " 0.38372752 0.3754757  0.36784554 0.36072716]\n",
      "4 day output [[0.35401884]]\n",
      "5 day input [0.88578501 0.87983695 0.85066834 0.85398556 0.84580688 0.85101149\n",
      " 0.84963882 0.83402508 0.8161808  0.81898322 0.83282407 0.83842898\n",
      " 0.8389437  0.83007872 0.8102899  0.81555167 0.80794495 0.81452215\n",
      " 0.79444733 0.80571442 0.81080462 0.81818251 0.81595198 0.81543726\n",
      " 0.80800212 0.80457057 0.82087061 0.82704749 0.83682758 0.84946725\n",
      " 0.85232691 0.85358517 0.84906693 0.84878095 0.85267014 0.84998205\n",
      " 0.87125796 0.85541539 0.85061118 0.85667365 0.86508107 0.86204984\n",
      " 0.86387998 0.85907576 0.86119189 0.84466303 0.84437704 0.85650208\n",
      " 0.85655924 0.86227857 0.87651973 0.90157033 0.91689817 0.91958626\n",
      " 0.9218168  0.92484803 0.89550785 0.91512519 0.94406498 0.94103374\n",
      " 0.93525717 0.92427606 0.94417939 0.97769457 1.         0.93077713\n",
      " 0.9226613  0.89850587 0.86801088 0.83495957 0.80113542 0.76784217\n",
      " 0.73617017 0.70693952 0.68063593 0.65740108 0.63707429 0.61926568\n",
      " 0.60344183 0.58901453 0.57541651 0.56216127 0.54888135 0.53534597\n",
      " 0.52146029 0.50725061 0.4928385  0.47841009 0.46418336 0.45037693\n",
      " 0.4371843  0.42475495 0.41318336 0.40250629 0.39270762 0.38372752\n",
      " 0.3754757  0.36784554 0.36072716 0.35401884]\n",
      "5 day output [[0.3476344]]\n",
      "6 day input [0.87983695 0.85066834 0.85398556 0.84580688 0.85101149 0.84963882\n",
      " 0.83402508 0.8161808  0.81898322 0.83282407 0.83842898 0.8389437\n",
      " 0.83007872 0.8102899  0.81555167 0.80794495 0.81452215 0.79444733\n",
      " 0.80571442 0.81080462 0.81818251 0.81595198 0.81543726 0.80800212\n",
      " 0.80457057 0.82087061 0.82704749 0.83682758 0.84946725 0.85232691\n",
      " 0.85358517 0.84906693 0.84878095 0.85267014 0.84998205 0.87125796\n",
      " 0.85541539 0.85061118 0.85667365 0.86508107 0.86204984 0.86387998\n",
      " 0.85907576 0.86119189 0.84466303 0.84437704 0.85650208 0.85655924\n",
      " 0.86227857 0.87651973 0.90157033 0.91689817 0.91958626 0.9218168\n",
      " 0.92484803 0.89550785 0.91512519 0.94406498 0.94103374 0.93525717\n",
      " 0.92427606 0.94417939 0.97769457 1.         0.93077713 0.9226613\n",
      " 0.89850587 0.86801088 0.83495957 0.80113542 0.76784217 0.73617017\n",
      " 0.70693952 0.68063593 0.65740108 0.63707429 0.61926568 0.60344183\n",
      " 0.58901453 0.57541651 0.56216127 0.54888135 0.53534597 0.52146029\n",
      " 0.50725061 0.4928385  0.47841009 0.46418336 0.45037693 0.4371843\n",
      " 0.42475495 0.41318336 0.40250629 0.39270762 0.38372752 0.3754757\n",
      " 0.36784554 0.36072716 0.35401884 0.3476344 ]\n",
      "6 day output [[0.34150878]]\n",
      "7 day input [0.85066834 0.85398556 0.84580688 0.85101149 0.84963882 0.83402508\n",
      " 0.8161808  0.81898322 0.83282407 0.83842898 0.8389437  0.83007872\n",
      " 0.8102899  0.81555167 0.80794495 0.81452215 0.79444733 0.80571442\n",
      " 0.81080462 0.81818251 0.81595198 0.81543726 0.80800212 0.80457057\n",
      " 0.82087061 0.82704749 0.83682758 0.84946725 0.85232691 0.85358517\n",
      " 0.84906693 0.84878095 0.85267014 0.84998205 0.87125796 0.85541539\n",
      " 0.85061118 0.85667365 0.86508107 0.86204984 0.86387998 0.85907576\n",
      " 0.86119189 0.84466303 0.84437704 0.85650208 0.85655924 0.86227857\n",
      " 0.87651973 0.90157033 0.91689817 0.91958626 0.9218168  0.92484803\n",
      " 0.89550785 0.91512519 0.94406498 0.94103374 0.93525717 0.92427606\n",
      " 0.94417939 0.97769457 1.         0.93077713 0.9226613  0.89850587\n",
      " 0.86801088 0.83495957 0.80113542 0.76784217 0.73617017 0.70693952\n",
      " 0.68063593 0.65740108 0.63707429 0.61926568 0.60344183 0.58901453\n",
      " 0.57541651 0.56216127 0.54888135 0.53534597 0.52146029 0.50725061\n",
      " 0.4928385  0.47841009 0.46418336 0.45037693 0.4371843  0.42475495\n",
      " 0.41318336 0.40250629 0.39270762 0.38372752 0.3754757  0.36784554\n",
      " 0.36072716 0.35401884 0.3476344  0.34150878]\n",
      "7 day output [[0.33559886]]\n",
      "8 day input [0.85398556 0.84580688 0.85101149 0.84963882 0.83402508 0.8161808\n",
      " 0.81898322 0.83282407 0.83842898 0.8389437  0.83007872 0.8102899\n",
      " 0.81555167 0.80794495 0.81452215 0.79444733 0.80571442 0.81080462\n",
      " 0.81818251 0.81595198 0.81543726 0.80800212 0.80457057 0.82087061\n",
      " 0.82704749 0.83682758 0.84946725 0.85232691 0.85358517 0.84906693\n",
      " 0.84878095 0.85267014 0.84998205 0.87125796 0.85541539 0.85061118\n",
      " 0.85667365 0.86508107 0.86204984 0.86387998 0.85907576 0.86119189\n",
      " 0.84466303 0.84437704 0.85650208 0.85655924 0.86227857 0.87651973\n",
      " 0.90157033 0.91689817 0.91958626 0.9218168  0.92484803 0.89550785\n",
      " 0.91512519 0.94406498 0.94103374 0.93525717 0.92427606 0.94417939\n",
      " 0.97769457 1.         0.93077713 0.9226613  0.89850587 0.86801088\n",
      " 0.83495957 0.80113542 0.76784217 0.73617017 0.70693952 0.68063593\n",
      " 0.65740108 0.63707429 0.61926568 0.60344183 0.58901453 0.57541651\n",
      " 0.56216127 0.54888135 0.53534597 0.52146029 0.50725061 0.4928385\n",
      " 0.47841009 0.46418336 0.45037693 0.4371843  0.42475495 0.41318336\n",
      " 0.40250629 0.39270762 0.38372752 0.3754757  0.36784554 0.36072716\n",
      " 0.35401884 0.3476344  0.34150878 0.33559886]\n",
      "8 day output [[0.3298823]]\n",
      "9 day input [0.84580688 0.85101149 0.84963882 0.83402508 0.8161808  0.81898322\n",
      " 0.83282407 0.83842898 0.8389437  0.83007872 0.8102899  0.81555167\n",
      " 0.80794495 0.81452215 0.79444733 0.80571442 0.81080462 0.81818251\n",
      " 0.81595198 0.81543726 0.80800212 0.80457057 0.82087061 0.82704749\n",
      " 0.83682758 0.84946725 0.85232691 0.85358517 0.84906693 0.84878095\n",
      " 0.85267014 0.84998205 0.87125796 0.85541539 0.85061118 0.85667365\n",
      " 0.86508107 0.86204984 0.86387998 0.85907576 0.86119189 0.84466303\n",
      " 0.84437704 0.85650208 0.85655924 0.86227857 0.87651973 0.90157033\n",
      " 0.91689817 0.91958626 0.9218168  0.92484803 0.89550785 0.91512519\n",
      " 0.94406498 0.94103374 0.93525717 0.92427606 0.94417939 0.97769457\n",
      " 1.         0.93077713 0.9226613  0.89850587 0.86801088 0.83495957\n",
      " 0.80113542 0.76784217 0.73617017 0.70693952 0.68063593 0.65740108\n",
      " 0.63707429 0.61926568 0.60344183 0.58901453 0.57541651 0.56216127\n",
      " 0.54888135 0.53534597 0.52146029 0.50725061 0.4928385  0.47841009\n",
      " 0.46418336 0.45037693 0.4371843  0.42475495 0.41318336 0.40250629\n",
      " 0.39270762 0.38372752 0.3754757  0.36784554 0.36072716 0.35401884\n",
      " 0.3476344  0.34150878 0.33559886 0.32988229]\n",
      "9 day output [[0.324354]]\n",
      "10 day input [0.85101149 0.84963882 0.83402508 0.8161808  0.81898322 0.83282407\n",
      " 0.83842898 0.8389437  0.83007872 0.8102899  0.81555167 0.80794495\n",
      " 0.81452215 0.79444733 0.80571442 0.81080462 0.81818251 0.81595198\n",
      " 0.81543726 0.80800212 0.80457057 0.82087061 0.82704749 0.83682758\n",
      " 0.84946725 0.85232691 0.85358517 0.84906693 0.84878095 0.85267014\n",
      " 0.84998205 0.87125796 0.85541539 0.85061118 0.85667365 0.86508107\n",
      " 0.86204984 0.86387998 0.85907576 0.86119189 0.84466303 0.84437704\n",
      " 0.85650208 0.85655924 0.86227857 0.87651973 0.90157033 0.91689817\n",
      " 0.91958626 0.9218168  0.92484803 0.89550785 0.91512519 0.94406498\n",
      " 0.94103374 0.93525717 0.92427606 0.94417939 0.97769457 1.\n",
      " 0.93077713 0.9226613  0.89850587 0.86801088 0.83495957 0.80113542\n",
      " 0.76784217 0.73617017 0.70693952 0.68063593 0.65740108 0.63707429\n",
      " 0.61926568 0.60344183 0.58901453 0.57541651 0.56216127 0.54888135\n",
      " 0.53534597 0.52146029 0.50725061 0.4928385  0.47841009 0.46418336\n",
      " 0.45037693 0.4371843  0.42475495 0.41318336 0.40250629 0.39270762\n",
      " 0.38372752 0.3754757  0.36784554 0.36072716 0.35401884 0.3476344\n",
      " 0.34150878 0.33559886 0.32988229 0.32435399]\n",
      "10 day output [[0.31902146]]\n",
      "11 day input [0.84963882 0.83402508 0.8161808  0.81898322 0.83282407 0.83842898\n",
      " 0.8389437  0.83007872 0.8102899  0.81555167 0.80794495 0.81452215\n",
      " 0.79444733 0.80571442 0.81080462 0.81818251 0.81595198 0.81543726\n",
      " 0.80800212 0.80457057 0.82087061 0.82704749 0.83682758 0.84946725\n",
      " 0.85232691 0.85358517 0.84906693 0.84878095 0.85267014 0.84998205\n",
      " 0.87125796 0.85541539 0.85061118 0.85667365 0.86508107 0.86204984\n",
      " 0.86387998 0.85907576 0.86119189 0.84466303 0.84437704 0.85650208\n",
      " 0.85655924 0.86227857 0.87651973 0.90157033 0.91689817 0.91958626\n",
      " 0.9218168  0.92484803 0.89550785 0.91512519 0.94406498 0.94103374\n",
      " 0.93525717 0.92427606 0.94417939 0.97769457 1.         0.93077713\n",
      " 0.9226613  0.89850587 0.86801088 0.83495957 0.80113542 0.76784217\n",
      " 0.73617017 0.70693952 0.68063593 0.65740108 0.63707429 0.61926568\n",
      " 0.60344183 0.58901453 0.57541651 0.56216127 0.54888135 0.53534597\n",
      " 0.52146029 0.50725061 0.4928385  0.47841009 0.46418336 0.45037693\n",
      " 0.4371843  0.42475495 0.41318336 0.40250629 0.39270762 0.38372752\n",
      " 0.3754757  0.36784554 0.36072716 0.35401884 0.3476344  0.34150878\n",
      " 0.33559886 0.32988229 0.32435399 0.31902146]\n",
      "11 day output [[0.31389987]]\n",
      "12 day input [0.83402508 0.8161808  0.81898322 0.83282407 0.83842898 0.8389437\n",
      " 0.83007872 0.8102899  0.81555167 0.80794495 0.81452215 0.79444733\n",
      " 0.80571442 0.81080462 0.81818251 0.81595198 0.81543726 0.80800212\n",
      " 0.80457057 0.82087061 0.82704749 0.83682758 0.84946725 0.85232691\n",
      " 0.85358517 0.84906693 0.84878095 0.85267014 0.84998205 0.87125796\n",
      " 0.85541539 0.85061118 0.85667365 0.86508107 0.86204984 0.86387998\n",
      " 0.85907576 0.86119189 0.84466303 0.84437704 0.85650208 0.85655924\n",
      " 0.86227857 0.87651973 0.90157033 0.91689817 0.91958626 0.9218168\n",
      " 0.92484803 0.89550785 0.91512519 0.94406498 0.94103374 0.93525717\n",
      " 0.92427606 0.94417939 0.97769457 1.         0.93077713 0.9226613\n",
      " 0.89850587 0.86801088 0.83495957 0.80113542 0.76784217 0.73617017\n",
      " 0.70693952 0.68063593 0.65740108 0.63707429 0.61926568 0.60344183\n",
      " 0.58901453 0.57541651 0.56216127 0.54888135 0.53534597 0.52146029\n",
      " 0.50725061 0.4928385  0.47841009 0.46418336 0.45037693 0.4371843\n",
      " 0.42475495 0.41318336 0.40250629 0.39270762 0.38372752 0.3754757\n",
      " 0.36784554 0.36072716 0.35401884 0.3476344  0.34150878 0.33559886\n",
      " 0.32988229 0.32435399 0.31902146 0.31389987]\n",
      "12 day output [[0.30900663]]\n",
      "13 day input [0.8161808  0.81898322 0.83282407 0.83842898 0.8389437  0.83007872\n",
      " 0.8102899  0.81555167 0.80794495 0.81452215 0.79444733 0.80571442\n",
      " 0.81080462 0.81818251 0.81595198 0.81543726 0.80800212 0.80457057\n",
      " 0.82087061 0.82704749 0.83682758 0.84946725 0.85232691 0.85358517\n",
      " 0.84906693 0.84878095 0.85267014 0.84998205 0.87125796 0.85541539\n",
      " 0.85061118 0.85667365 0.86508107 0.86204984 0.86387998 0.85907576\n",
      " 0.86119189 0.84466303 0.84437704 0.85650208 0.85655924 0.86227857\n",
      " 0.87651973 0.90157033 0.91689817 0.91958626 0.9218168  0.92484803\n",
      " 0.89550785 0.91512519 0.94406498 0.94103374 0.93525717 0.92427606\n",
      " 0.94417939 0.97769457 1.         0.93077713 0.9226613  0.89850587\n",
      " 0.86801088 0.83495957 0.80113542 0.76784217 0.73617017 0.70693952\n",
      " 0.68063593 0.65740108 0.63707429 0.61926568 0.60344183 0.58901453\n",
      " 0.57541651 0.56216127 0.54888135 0.53534597 0.52146029 0.50725061\n",
      " 0.4928385  0.47841009 0.46418336 0.45037693 0.4371843  0.42475495\n",
      " 0.41318336 0.40250629 0.39270762 0.38372752 0.3754757  0.36784554\n",
      " 0.36072716 0.35401884 0.3476344  0.34150878 0.33559886 0.32988229\n",
      " 0.32435399 0.31902146 0.31389987 0.30900663]\n",
      "13 day output [[0.3043575]]\n",
      "14 day input [0.81898322 0.83282407 0.83842898 0.8389437  0.83007872 0.8102899\n",
      " 0.81555167 0.80794495 0.81452215 0.79444733 0.80571442 0.81080462\n",
      " 0.81818251 0.81595198 0.81543726 0.80800212 0.80457057 0.82087061\n",
      " 0.82704749 0.83682758 0.84946725 0.85232691 0.85358517 0.84906693\n",
      " 0.84878095 0.85267014 0.84998205 0.87125796 0.85541539 0.85061118\n",
      " 0.85667365 0.86508107 0.86204984 0.86387998 0.85907576 0.86119189\n",
      " 0.84466303 0.84437704 0.85650208 0.85655924 0.86227857 0.87651973\n",
      " 0.90157033 0.91689817 0.91958626 0.9218168  0.92484803 0.89550785\n",
      " 0.91512519 0.94406498 0.94103374 0.93525717 0.92427606 0.94417939\n",
      " 0.97769457 1.         0.93077713 0.9226613  0.89850587 0.86801088\n",
      " 0.83495957 0.80113542 0.76784217 0.73617017 0.70693952 0.68063593\n",
      " 0.65740108 0.63707429 0.61926568 0.60344183 0.58901453 0.57541651\n",
      " 0.56216127 0.54888135 0.53534597 0.52146029 0.50725061 0.4928385\n",
      " 0.47841009 0.46418336 0.45037693 0.4371843  0.42475495 0.41318336\n",
      " 0.40250629 0.39270762 0.38372752 0.3754757  0.36784554 0.36072716\n",
      " 0.35401884 0.3476344  0.34150878 0.33559886 0.32988229 0.32435399\n",
      " 0.31902146 0.31389987 0.30900663 0.3043575 ]\n",
      "14 day output [[0.29996327]]\n",
      "15 day input [0.83282407 0.83842898 0.8389437  0.83007872 0.8102899  0.81555167\n",
      " 0.80794495 0.81452215 0.79444733 0.80571442 0.81080462 0.81818251\n",
      " 0.81595198 0.81543726 0.80800212 0.80457057 0.82087061 0.82704749\n",
      " 0.83682758 0.84946725 0.85232691 0.85358517 0.84906693 0.84878095\n",
      " 0.85267014 0.84998205 0.87125796 0.85541539 0.85061118 0.85667365\n",
      " 0.86508107 0.86204984 0.86387998 0.85907576 0.86119189 0.84466303\n",
      " 0.84437704 0.85650208 0.85655924 0.86227857 0.87651973 0.90157033\n",
      " 0.91689817 0.91958626 0.9218168  0.92484803 0.89550785 0.91512519\n",
      " 0.94406498 0.94103374 0.93525717 0.92427606 0.94417939 0.97769457\n",
      " 1.         0.93077713 0.9226613  0.89850587 0.86801088 0.83495957\n",
      " 0.80113542 0.76784217 0.73617017 0.70693952 0.68063593 0.65740108\n",
      " 0.63707429 0.61926568 0.60344183 0.58901453 0.57541651 0.56216127\n",
      " 0.54888135 0.53534597 0.52146029 0.50725061 0.4928385  0.47841009\n",
      " 0.46418336 0.45037693 0.4371843  0.42475495 0.41318336 0.40250629\n",
      " 0.39270762 0.38372752 0.3754757  0.36784554 0.36072716 0.35401884\n",
      " 0.3476344  0.34150878 0.33559886 0.32988229 0.32435399 0.31902146\n",
      " 0.31389987 0.30900663 0.3043575  0.29996327]\n",
      "15 day output [[0.2958281]]\n",
      "16 day input [0.83842898 0.8389437  0.83007872 0.8102899  0.81555167 0.80794495\n",
      " 0.81452215 0.79444733 0.80571442 0.81080462 0.81818251 0.81595198\n",
      " 0.81543726 0.80800212 0.80457057 0.82087061 0.82704749 0.83682758\n",
      " 0.84946725 0.85232691 0.85358517 0.84906693 0.84878095 0.85267014\n",
      " 0.84998205 0.87125796 0.85541539 0.85061118 0.85667365 0.86508107\n",
      " 0.86204984 0.86387998 0.85907576 0.86119189 0.84466303 0.84437704\n",
      " 0.85650208 0.85655924 0.86227857 0.87651973 0.90157033 0.91689817\n",
      " 0.91958626 0.9218168  0.92484803 0.89550785 0.91512519 0.94406498\n",
      " 0.94103374 0.93525717 0.92427606 0.94417939 0.97769457 1.\n",
      " 0.93077713 0.9226613  0.89850587 0.86801088 0.83495957 0.80113542\n",
      " 0.76784217 0.73617017 0.70693952 0.68063593 0.65740108 0.63707429\n",
      " 0.61926568 0.60344183 0.58901453 0.57541651 0.56216127 0.54888135\n",
      " 0.53534597 0.52146029 0.50725061 0.4928385  0.47841009 0.46418336\n",
      " 0.45037693 0.4371843  0.42475495 0.41318336 0.40250629 0.39270762\n",
      " 0.38372752 0.3754757  0.36784554 0.36072716 0.35401884 0.3476344\n",
      " 0.34150878 0.33559886 0.32988229 0.32435399 0.31902146 0.31389987\n",
      " 0.30900663 0.3043575  0.29996327 0.2958281 ]\n",
      "16 day output [[0.29194885]]\n",
      "17 day input [0.8389437  0.83007872 0.8102899  0.81555167 0.80794495 0.81452215\n",
      " 0.79444733 0.80571442 0.81080462 0.81818251 0.81595198 0.81543726\n",
      " 0.80800212 0.80457057 0.82087061 0.82704749 0.83682758 0.84946725\n",
      " 0.85232691 0.85358517 0.84906693 0.84878095 0.85267014 0.84998205\n",
      " 0.87125796 0.85541539 0.85061118 0.85667365 0.86508107 0.86204984\n",
      " 0.86387998 0.85907576 0.86119189 0.84466303 0.84437704 0.85650208\n",
      " 0.85655924 0.86227857 0.87651973 0.90157033 0.91689817 0.91958626\n",
      " 0.9218168  0.92484803 0.89550785 0.91512519 0.94406498 0.94103374\n",
      " 0.93525717 0.92427606 0.94417939 0.97769457 1.         0.93077713\n",
      " 0.9226613  0.89850587 0.86801088 0.83495957 0.80113542 0.76784217\n",
      " 0.73617017 0.70693952 0.68063593 0.65740108 0.63707429 0.61926568\n",
      " 0.60344183 0.58901453 0.57541651 0.56216127 0.54888135 0.53534597\n",
      " 0.52146029 0.50725061 0.4928385  0.47841009 0.46418336 0.45037693\n",
      " 0.4371843  0.42475495 0.41318336 0.40250629 0.39270762 0.38372752\n",
      " 0.3754757  0.36784554 0.36072716 0.35401884 0.3476344  0.34150878\n",
      " 0.33559886 0.32988229 0.32435399 0.31902146 0.31389987 0.30900663\n",
      " 0.3043575  0.29996327 0.2958281  0.29194885]\n",
      "17 day output [[0.28831527]]\n",
      "18 day input [0.83007872 0.8102899  0.81555167 0.80794495 0.81452215 0.79444733\n",
      " 0.80571442 0.81080462 0.81818251 0.81595198 0.81543726 0.80800212\n",
      " 0.80457057 0.82087061 0.82704749 0.83682758 0.84946725 0.85232691\n",
      " 0.85358517 0.84906693 0.84878095 0.85267014 0.84998205 0.87125796\n",
      " 0.85541539 0.85061118 0.85667365 0.86508107 0.86204984 0.86387998\n",
      " 0.85907576 0.86119189 0.84466303 0.84437704 0.85650208 0.85655924\n",
      " 0.86227857 0.87651973 0.90157033 0.91689817 0.91958626 0.9218168\n",
      " 0.92484803 0.89550785 0.91512519 0.94406498 0.94103374 0.93525717\n",
      " 0.92427606 0.94417939 0.97769457 1.         0.93077713 0.9226613\n",
      " 0.89850587 0.86801088 0.83495957 0.80113542 0.76784217 0.73617017\n",
      " 0.70693952 0.68063593 0.65740108 0.63707429 0.61926568 0.60344183\n",
      " 0.58901453 0.57541651 0.56216127 0.54888135 0.53534597 0.52146029\n",
      " 0.50725061 0.4928385  0.47841009 0.46418336 0.45037693 0.4371843\n",
      " 0.42475495 0.41318336 0.40250629 0.39270762 0.38372752 0.3754757\n",
      " 0.36784554 0.36072716 0.35401884 0.3476344  0.34150878 0.33559886\n",
      " 0.32988229 0.32435399 0.31902146 0.31389987 0.30900663 0.3043575\n",
      " 0.29996327 0.2958281  0.29194885 0.28831527]\n",
      "18 day output [[0.28491136]]\n",
      "19 day input [0.8102899  0.81555167 0.80794495 0.81452215 0.79444733 0.80571442\n",
      " 0.81080462 0.81818251 0.81595198 0.81543726 0.80800212 0.80457057\n",
      " 0.82087061 0.82704749 0.83682758 0.84946725 0.85232691 0.85358517\n",
      " 0.84906693 0.84878095 0.85267014 0.84998205 0.87125796 0.85541539\n",
      " 0.85061118 0.85667365 0.86508107 0.86204984 0.86387998 0.85907576\n",
      " 0.86119189 0.84466303 0.84437704 0.85650208 0.85655924 0.86227857\n",
      " 0.87651973 0.90157033 0.91689817 0.91958626 0.9218168  0.92484803\n",
      " 0.89550785 0.91512519 0.94406498 0.94103374 0.93525717 0.92427606\n",
      " 0.94417939 0.97769457 1.         0.93077713 0.9226613  0.89850587\n",
      " 0.86801088 0.83495957 0.80113542 0.76784217 0.73617017 0.70693952\n",
      " 0.68063593 0.65740108 0.63707429 0.61926568 0.60344183 0.58901453\n",
      " 0.57541651 0.56216127 0.54888135 0.53534597 0.52146029 0.50725061\n",
      " 0.4928385  0.47841009 0.46418336 0.45037693 0.4371843  0.42475495\n",
      " 0.41318336 0.40250629 0.39270762 0.38372752 0.3754757  0.36784554\n",
      " 0.36072716 0.35401884 0.3476344  0.34150878 0.33559886 0.32988229\n",
      " 0.32435399 0.31902146 0.31389987 0.30900663 0.3043575  0.29996327\n",
      " 0.2958281  0.29194885 0.28831527 0.28491136]\n",
      "19 day output [[0.2817172]]\n",
      "20 day input [0.81555167 0.80794495 0.81452215 0.79444733 0.80571442 0.81080462\n",
      " 0.81818251 0.81595198 0.81543726 0.80800212 0.80457057 0.82087061\n",
      " 0.82704749 0.83682758 0.84946725 0.85232691 0.85358517 0.84906693\n",
      " 0.84878095 0.85267014 0.84998205 0.87125796 0.85541539 0.85061118\n",
      " 0.85667365 0.86508107 0.86204984 0.86387998 0.85907576 0.86119189\n",
      " 0.84466303 0.84437704 0.85650208 0.85655924 0.86227857 0.87651973\n",
      " 0.90157033 0.91689817 0.91958626 0.9218168  0.92484803 0.89550785\n",
      " 0.91512519 0.94406498 0.94103374 0.93525717 0.92427606 0.94417939\n",
      " 0.97769457 1.         0.93077713 0.9226613  0.89850587 0.86801088\n",
      " 0.83495957 0.80113542 0.76784217 0.73617017 0.70693952 0.68063593\n",
      " 0.65740108 0.63707429 0.61926568 0.60344183 0.58901453 0.57541651\n",
      " 0.56216127 0.54888135 0.53534597 0.52146029 0.50725061 0.4928385\n",
      " 0.47841009 0.46418336 0.45037693 0.4371843  0.42475495 0.41318336\n",
      " 0.40250629 0.39270762 0.38372752 0.3754757  0.36784554 0.36072716\n",
      " 0.35401884 0.3476344  0.34150878 0.33559886 0.32988229 0.32435399\n",
      " 0.31902146 0.31389987 0.30900663 0.3043575  0.29996327 0.2958281\n",
      " 0.29194885 0.28831527 0.28491136 0.28171721]\n",
      "20 day output [[0.27871093]]\n",
      "21 day input [0.80794495 0.81452215 0.79444733 0.80571442 0.81080462 0.81818251\n",
      " 0.81595198 0.81543726 0.80800212 0.80457057 0.82087061 0.82704749\n",
      " 0.83682758 0.84946725 0.85232691 0.85358517 0.84906693 0.84878095\n",
      " 0.85267014 0.84998205 0.87125796 0.85541539 0.85061118 0.85667365\n",
      " 0.86508107 0.86204984 0.86387998 0.85907576 0.86119189 0.84466303\n",
      " 0.84437704 0.85650208 0.85655924 0.86227857 0.87651973 0.90157033\n",
      " 0.91689817 0.91958626 0.9218168  0.92484803 0.89550785 0.91512519\n",
      " 0.94406498 0.94103374 0.93525717 0.92427606 0.94417939 0.97769457\n",
      " 1.         0.93077713 0.9226613  0.89850587 0.86801088 0.83495957\n",
      " 0.80113542 0.76784217 0.73617017 0.70693952 0.68063593 0.65740108\n",
      " 0.63707429 0.61926568 0.60344183 0.58901453 0.57541651 0.56216127\n",
      " 0.54888135 0.53534597 0.52146029 0.50725061 0.4928385  0.47841009\n",
      " 0.46418336 0.45037693 0.4371843  0.42475495 0.41318336 0.40250629\n",
      " 0.39270762 0.38372752 0.3754757  0.36784554 0.36072716 0.35401884\n",
      " 0.3476344  0.34150878 0.33559886 0.32988229 0.32435399 0.31902146\n",
      " 0.31389987 0.30900663 0.3043575  0.29996327 0.2958281  0.29194885\n",
      " 0.28831527 0.28491136 0.28171721 0.27871093]\n",
      "21 day output [[0.27587005]]\n",
      "22 day input [0.81452215 0.79444733 0.80571442 0.81080462 0.81818251 0.81595198\n",
      " 0.81543726 0.80800212 0.80457057 0.82087061 0.82704749 0.83682758\n",
      " 0.84946725 0.85232691 0.85358517 0.84906693 0.84878095 0.85267014\n",
      " 0.84998205 0.87125796 0.85541539 0.85061118 0.85667365 0.86508107\n",
      " 0.86204984 0.86387998 0.85907576 0.86119189 0.84466303 0.84437704\n",
      " 0.85650208 0.85655924 0.86227857 0.87651973 0.90157033 0.91689817\n",
      " 0.91958626 0.9218168  0.92484803 0.89550785 0.91512519 0.94406498\n",
      " 0.94103374 0.93525717 0.92427606 0.94417939 0.97769457 1.\n",
      " 0.93077713 0.9226613  0.89850587 0.86801088 0.83495957 0.80113542\n",
      " 0.76784217 0.73617017 0.70693952 0.68063593 0.65740108 0.63707429\n",
      " 0.61926568 0.60344183 0.58901453 0.57541651 0.56216127 0.54888135\n",
      " 0.53534597 0.52146029 0.50725061 0.4928385  0.47841009 0.46418336\n",
      " 0.45037693 0.4371843  0.42475495 0.41318336 0.40250629 0.39270762\n",
      " 0.38372752 0.3754757  0.36784554 0.36072716 0.35401884 0.3476344\n",
      " 0.34150878 0.33559886 0.32988229 0.32435399 0.31902146 0.31389987\n",
      " 0.30900663 0.3043575  0.29996327 0.2958281  0.29194885 0.28831527\n",
      " 0.28491136 0.28171721 0.27871093 0.27587005]\n",
      "22 day output [[0.2731738]]\n",
      "23 day input [0.79444733 0.80571442 0.81080462 0.81818251 0.81595198 0.81543726\n",
      " 0.80800212 0.80457057 0.82087061 0.82704749 0.83682758 0.84946725\n",
      " 0.85232691 0.85358517 0.84906693 0.84878095 0.85267014 0.84998205\n",
      " 0.87125796 0.85541539 0.85061118 0.85667365 0.86508107 0.86204984\n",
      " 0.86387998 0.85907576 0.86119189 0.84466303 0.84437704 0.85650208\n",
      " 0.85655924 0.86227857 0.87651973 0.90157033 0.91689817 0.91958626\n",
      " 0.9218168  0.92484803 0.89550785 0.91512519 0.94406498 0.94103374\n",
      " 0.93525717 0.92427606 0.94417939 0.97769457 1.         0.93077713\n",
      " 0.9226613  0.89850587 0.86801088 0.83495957 0.80113542 0.76784217\n",
      " 0.73617017 0.70693952 0.68063593 0.65740108 0.63707429 0.61926568\n",
      " 0.60344183 0.58901453 0.57541651 0.56216127 0.54888135 0.53534597\n",
      " 0.52146029 0.50725061 0.4928385  0.47841009 0.46418336 0.45037693\n",
      " 0.4371843  0.42475495 0.41318336 0.40250629 0.39270762 0.38372752\n",
      " 0.3754757  0.36784554 0.36072716 0.35401884 0.3476344  0.34150878\n",
      " 0.33559886 0.32988229 0.32435399 0.31902146 0.31389987 0.30900663\n",
      " 0.3043575  0.29996327 0.2958281  0.29194885 0.28831527 0.28491136\n",
      " 0.28171721 0.27871093 0.27587005 0.27317381]\n",
      "23 day output [[0.2706038]]\n",
      "24 day input [0.80571442 0.81080462 0.81818251 0.81595198 0.81543726 0.80800212\n",
      " 0.80457057 0.82087061 0.82704749 0.83682758 0.84946725 0.85232691\n",
      " 0.85358517 0.84906693 0.84878095 0.85267014 0.84998205 0.87125796\n",
      " 0.85541539 0.85061118 0.85667365 0.86508107 0.86204984 0.86387998\n",
      " 0.85907576 0.86119189 0.84466303 0.84437704 0.85650208 0.85655924\n",
      " 0.86227857 0.87651973 0.90157033 0.91689817 0.91958626 0.9218168\n",
      " 0.92484803 0.89550785 0.91512519 0.94406498 0.94103374 0.93525717\n",
      " 0.92427606 0.94417939 0.97769457 1.         0.93077713 0.9226613\n",
      " 0.89850587 0.86801088 0.83495957 0.80113542 0.76784217 0.73617017\n",
      " 0.70693952 0.68063593 0.65740108 0.63707429 0.61926568 0.60344183\n",
      " 0.58901453 0.57541651 0.56216127 0.54888135 0.53534597 0.52146029\n",
      " 0.50725061 0.4928385  0.47841009 0.46418336 0.45037693 0.4371843\n",
      " 0.42475495 0.41318336 0.40250629 0.39270762 0.38372752 0.3754757\n",
      " 0.36784554 0.36072716 0.35401884 0.3476344  0.34150878 0.33559886\n",
      " 0.32988229 0.32435399 0.31902146 0.31389987 0.30900663 0.3043575\n",
      " 0.29996327 0.2958281  0.29194885 0.28831527 0.28491136 0.28171721\n",
      " 0.27871093 0.27587005 0.27317381 0.27060381]\n",
      "24 day output [[0.26814473]]\n",
      "25 day input [0.81080462 0.81818251 0.81595198 0.81543726 0.80800212 0.80457057\n",
      " 0.82087061 0.82704749 0.83682758 0.84946725 0.85232691 0.85358517\n",
      " 0.84906693 0.84878095 0.85267014 0.84998205 0.87125796 0.85541539\n",
      " 0.85061118 0.85667365 0.86508107 0.86204984 0.86387998 0.85907576\n",
      " 0.86119189 0.84466303 0.84437704 0.85650208 0.85655924 0.86227857\n",
      " 0.87651973 0.90157033 0.91689817 0.91958626 0.9218168  0.92484803\n",
      " 0.89550785 0.91512519 0.94406498 0.94103374 0.93525717 0.92427606\n",
      " 0.94417939 0.97769457 1.         0.93077713 0.9226613  0.89850587\n",
      " 0.86801088 0.83495957 0.80113542 0.76784217 0.73617017 0.70693952\n",
      " 0.68063593 0.65740108 0.63707429 0.61926568 0.60344183 0.58901453\n",
      " 0.57541651 0.56216127 0.54888135 0.53534597 0.52146029 0.50725061\n",
      " 0.4928385  0.47841009 0.46418336 0.45037693 0.4371843  0.42475495\n",
      " 0.41318336 0.40250629 0.39270762 0.38372752 0.3754757  0.36784554\n",
      " 0.36072716 0.35401884 0.3476344  0.34150878 0.33559886 0.32988229\n",
      " 0.32435399 0.31902146 0.31389987 0.30900663 0.3043575  0.29996327\n",
      " 0.2958281  0.29194885 0.28831527 0.28491136 0.28171721 0.27871093\n",
      " 0.27587005 0.27317381 0.27060381 0.26814473]\n",
      "25 day output [[0.265785]]\n",
      "26 day input [0.81818251 0.81595198 0.81543726 0.80800212 0.80457057 0.82087061\n",
      " 0.82704749 0.83682758 0.84946725 0.85232691 0.85358517 0.84906693\n",
      " 0.84878095 0.85267014 0.84998205 0.87125796 0.85541539 0.85061118\n",
      " 0.85667365 0.86508107 0.86204984 0.86387998 0.85907576 0.86119189\n",
      " 0.84466303 0.84437704 0.85650208 0.85655924 0.86227857 0.87651973\n",
      " 0.90157033 0.91689817 0.91958626 0.9218168  0.92484803 0.89550785\n",
      " 0.91512519 0.94406498 0.94103374 0.93525717 0.92427606 0.94417939\n",
      " 0.97769457 1.         0.93077713 0.9226613  0.89850587 0.86801088\n",
      " 0.83495957 0.80113542 0.76784217 0.73617017 0.70693952 0.68063593\n",
      " 0.65740108 0.63707429 0.61926568 0.60344183 0.58901453 0.57541651\n",
      " 0.56216127 0.54888135 0.53534597 0.52146029 0.50725061 0.4928385\n",
      " 0.47841009 0.46418336 0.45037693 0.4371843  0.42475495 0.41318336\n",
      " 0.40250629 0.39270762 0.38372752 0.3754757  0.36784554 0.36072716\n",
      " 0.35401884 0.3476344  0.34150878 0.33559886 0.32988229 0.32435399\n",
      " 0.31902146 0.31389987 0.30900663 0.3043575  0.29996327 0.2958281\n",
      " 0.29194885 0.28831527 0.28491136 0.28171721 0.27871093 0.27587005\n",
      " 0.27317381 0.27060381 0.26814473 0.26578501]\n",
      "26 day output [[0.26351595]]\n",
      "27 day input [0.81595198 0.81543726 0.80800212 0.80457057 0.82087061 0.82704749\n",
      " 0.83682758 0.84946725 0.85232691 0.85358517 0.84906693 0.84878095\n",
      " 0.85267014 0.84998205 0.87125796 0.85541539 0.85061118 0.85667365\n",
      " 0.86508107 0.86204984 0.86387998 0.85907576 0.86119189 0.84466303\n",
      " 0.84437704 0.85650208 0.85655924 0.86227857 0.87651973 0.90157033\n",
      " 0.91689817 0.91958626 0.9218168  0.92484803 0.89550785 0.91512519\n",
      " 0.94406498 0.94103374 0.93525717 0.92427606 0.94417939 0.97769457\n",
      " 1.         0.93077713 0.9226613  0.89850587 0.86801088 0.83495957\n",
      " 0.80113542 0.76784217 0.73617017 0.70693952 0.68063593 0.65740108\n",
      " 0.63707429 0.61926568 0.60344183 0.58901453 0.57541651 0.56216127\n",
      " 0.54888135 0.53534597 0.52146029 0.50725061 0.4928385  0.47841009\n",
      " 0.46418336 0.45037693 0.4371843  0.42475495 0.41318336 0.40250629\n",
      " 0.39270762 0.38372752 0.3754757  0.36784554 0.36072716 0.35401884\n",
      " 0.3476344  0.34150878 0.33559886 0.32988229 0.32435399 0.31902146\n",
      " 0.31389987 0.30900663 0.3043575  0.29996327 0.2958281  0.29194885\n",
      " 0.28831527 0.28491136 0.28171721 0.27871093 0.27587005 0.27317381\n",
      " 0.27060381 0.26814473 0.26578501 0.26351595]\n",
      "27 day output [[0.26133212]]\n",
      "28 day input [0.81543726 0.80800212 0.80457057 0.82087061 0.82704749 0.83682758\n",
      " 0.84946725 0.85232691 0.85358517 0.84906693 0.84878095 0.85267014\n",
      " 0.84998205 0.87125796 0.85541539 0.85061118 0.85667365 0.86508107\n",
      " 0.86204984 0.86387998 0.85907576 0.86119189 0.84466303 0.84437704\n",
      " 0.85650208 0.85655924 0.86227857 0.87651973 0.90157033 0.91689817\n",
      " 0.91958626 0.9218168  0.92484803 0.89550785 0.91512519 0.94406498\n",
      " 0.94103374 0.93525717 0.92427606 0.94417939 0.97769457 1.\n",
      " 0.93077713 0.9226613  0.89850587 0.86801088 0.83495957 0.80113542\n",
      " 0.76784217 0.73617017 0.70693952 0.68063593 0.65740108 0.63707429\n",
      " 0.61926568 0.60344183 0.58901453 0.57541651 0.56216127 0.54888135\n",
      " 0.53534597 0.52146029 0.50725061 0.4928385  0.47841009 0.46418336\n",
      " 0.45037693 0.4371843  0.42475495 0.41318336 0.40250629 0.39270762\n",
      " 0.38372752 0.3754757  0.36784554 0.36072716 0.35401884 0.3476344\n",
      " 0.34150878 0.33559886 0.32988229 0.32435399 0.31902146 0.31389987\n",
      " 0.30900663 0.3043575  0.29996327 0.2958281  0.29194885 0.28831527\n",
      " 0.28491136 0.28171721 0.27871093 0.27587005 0.27317381 0.27060381\n",
      " 0.26814473 0.26578501 0.26351595 0.26133212]\n",
      "28 day output [[0.25923005]]\n",
      "29 day input [0.80800212 0.80457057 0.82087061 0.82704749 0.83682758 0.84946725\n",
      " 0.85232691 0.85358517 0.84906693 0.84878095 0.85267014 0.84998205\n",
      " 0.87125796 0.85541539 0.85061118 0.85667365 0.86508107 0.86204984\n",
      " 0.86387998 0.85907576 0.86119189 0.84466303 0.84437704 0.85650208\n",
      " 0.85655924 0.86227857 0.87651973 0.90157033 0.91689817 0.91958626\n",
      " 0.9218168  0.92484803 0.89550785 0.91512519 0.94406498 0.94103374\n",
      " 0.93525717 0.92427606 0.94417939 0.97769457 1.         0.93077713\n",
      " 0.9226613  0.89850587 0.86801088 0.83495957 0.80113542 0.76784217\n",
      " 0.73617017 0.70693952 0.68063593 0.65740108 0.63707429 0.61926568\n",
      " 0.60344183 0.58901453 0.57541651 0.56216127 0.54888135 0.53534597\n",
      " 0.52146029 0.50725061 0.4928385  0.47841009 0.46418336 0.45037693\n",
      " 0.4371843  0.42475495 0.41318336 0.40250629 0.39270762 0.38372752\n",
      " 0.3754757  0.36784554 0.36072716 0.35401884 0.3476344  0.34150878\n",
      " 0.33559886 0.32988229 0.32435399 0.31902146 0.31389987 0.30900663\n",
      " 0.3043575  0.29996327 0.2958281  0.29194885 0.28831527 0.28491136\n",
      " 0.28171721 0.27871093 0.27587005 0.27317381 0.27060381 0.26814473\n",
      " 0.26578501 0.26351595 0.26133212 0.25923005]\n",
      "29 day output [[0.25720766]]\n",
      "[[0.3837275207042694], [0.3754757046699524], [0.3678455352783203], [0.3607271611690521], [0.35401883721351624], [0.3476344048976898], [0.34150877594947815], [0.3355988562107086], [0.32988229393959045], [0.32435399293899536], [0.31902146339416504], [0.3138998746871948], [0.30900663137435913], [0.30435749888420105], [0.2999632656574249], [0.29582810401916504], [0.2919488549232483], [0.2883152663707733], [0.2849113643169403], [0.2817172110080719], [0.2787109315395355], [0.27587005496025085], [0.27317380905151367], [0.27060380578041077], [0.26814472675323486], [0.26578500866889954], [0.2635159492492676], [0.26133212447166443], [0.2592300474643707], [0.2572076618671417]]\n"
     ]
    }
   ],
   "source": [
    "from numpy import array\n",
    "\n",
    "lst_output=[]\n",
    "n_steps=100\n",
    "i=0\n",
    "while(i<30):\n",
    "    \n",
    "    if(len(temp_input)>100):\n",
    "        #print(temp_input)\n",
    "        x_input=np.array(temp_input[1:])\n",
    "        print(\"{} day input {}\".format(i,x_input))\n",
    "        x_input=x_input.reshape(1,-1)\n",
    "        x_input = x_input.reshape((1, n_steps, 1))\n",
    "        #print(x_input)\n",
    "        yhat = model.predict(x_input, verbose=0)\n",
    "        print(\"{} day output {}\".format(i,yhat))\n",
    "        temp_input.extend(yhat[0].tolist())\n",
    "        temp_input=temp_input[1:]\n",
    "        #print(temp_input)\n",
    "        lst_output.extend(yhat.tolist())\n",
    "        i=i+1\n",
    "    else:\n",
    "        x_input = x_input.reshape((1, n_steps,1))\n",
    "        yhat = model.predict(x_input, verbose=0)\n",
    "        print(yhat[0])\n",
    "        temp_input.extend(yhat[0].tolist())\n",
    "        print(len(temp_input))\n",
    "        lst_output.extend(yhat.tolist())\n",
    "        i=i+1\n",
    "    \n",
    "\n",
    "print(lst_output)"
   ]
  },
  {
   "cell_type": "code",
   "execution_count": 206,
   "id": "059f9890",
   "metadata": {},
   "outputs": [
    {
     "data": {
      "text/plain": [
       "array([[162.97668017],\n",
       "       [161.55766241],\n",
       "       [157.33418756],\n",
       "       [152.00226956],\n",
       "       [146.22338925],\n",
       "       [140.30938226],\n",
       "       [134.48820061],\n",
       "       [128.95048694],\n",
       "       [123.83963227],\n",
       "       [119.24056236],\n",
       "       [115.17804939],\n",
       "       [111.62399668],\n",
       "       [108.51023643],\n",
       "       [105.74350561],\n",
       "       [103.22095326],\n",
       "       [100.84339687],\n",
       "       [ 98.5257752 ],\n",
       "       [ 96.20383898],\n",
       "       [ 93.83723571],\n",
       "       [ 91.4093846 ],\n",
       "       [ 88.92488157],\n",
       "       [ 86.40498674],\n",
       "       [ 83.8822416 ],\n",
       "       [ 81.39475799],\n",
       "       [ 78.98076242],\n",
       "       [ 76.67408866],\n",
       "       [ 74.50086891],\n",
       "       [ 72.47762664],\n",
       "       [ 70.6107868 ],\n",
       "       [ 68.89753031]])"
      ]
     },
     "execution_count": 206,
     "metadata": {},
     "output_type": "execute_result"
    }
   ],
   "source": [
    "scaler.inverse_transform(outputs)"
   ]
  },
  {
   "cell_type": "code",
   "execution_count": 207,
   "id": "81de2fbb",
   "metadata": {},
   "outputs": [
    {
     "name": "stdout",
     "output_type": "stream",
     "text": [
      "5236\n"
     ]
    }
   ],
   "source": [
    "day_new=np.arange(1,101)\n",
    "day_pred=np.arange(101,131)\n",
    "\n",
    "import matplotlib.pyplot as plt\n",
    "\n",
    "l=len(df2)-100\n",
    "print(l)"
   ]
  },
  {
   "cell_type": "code",
   "execution_count": 211,
   "id": "83842750",
   "metadata": {},
   "outputs": [
    {
     "data": {
      "text/plain": [
       "[<matplotlib.lines.Line2D at 0x7fba7bee9d60>]"
      ]
     },
     "execution_count": 211,
     "metadata": {},
     "output_type": "execute_result"
    },
    {
     "data": {
      "image/png": "[encoded data removed]",
      "text/plain": [
       "<Figure size 432x288 with 1 Axes>"
      ]
     },
     "metadata": {
      "needs_background": "light"
     },
     "output_type": "display_data"
    }
   ],
   "source": [
    "\n",
    "plt.plot(day_new,scaler.inverse_transform(df2[l:]))\n",
    "plt.plot(day_pred,scaler.inverse_transform(lst_output))\n",
    "\n"
   ]
  },
  {
   "cell_type": "code",
   "execution_count": 209,
   "id": "eceb4457",
   "metadata": {},
   "outputs": [
    {
     "data": {
      "text/plain": [
       "[<matplotlib.lines.Line2D at 0x7fba81fc8c40>]"
      ]
     },
     "execution_count": 209,
     "metadata": {},
     "output_type": "execute_result"
    },
    {
     "data": {
      "image/png": "[encoded data removed]",
      "text/plain": [
       "<Figure size 432x288 with 1 Axes>"
      ]
     },
     "metadata": {
      "needs_background": "light"
     },
     "output_type": "display_data"
    }
   ],
   "source": [
    "df3=df2.tolist()\n",
    "df3.extend(outputs)\n",
    "plt.plot(df3[l:])"
   ]
  },
  {
   "cell_type": "code",
   "execution_count": 210,
   "id": "4d5d9589",
   "metadata": {},
   "outputs": [
    {
     "data": {
      "text/plain": [
       "[<matplotlib.lines.Line2D at 0x7fba81e4c6d0>]"
      ]
     },
     "execution_count": 210,
     "metadata": {},
     "output_type": "execute_result"
    },
    {
     "data": {
      "image/png": "[encoded data removed]",
      "text/plain": [
       "<Figure size 432x288 with 1 Axes>"
      ]
     },
     "metadata": {
      "needs_background": "light"
     },
     "output_type": "display_data"
    }
   ],
   "source": [
    "plt.plot(df3)"
   ]
  },
  {
   "cell_type": "markdown",
   "id": "6efdc62e",
   "metadata": {},
   "source": [
    "### Final Remarks \n",
    "\n",
    "The model isn't doing so well for some reason , but the process of going through handling time-series data is something i now have under my experience "
   ]
  },
  {
   "cell_type": "markdown",
   "id": "579e085a",
   "metadata": {},
   "source": []
  }
 ],
 "metadata": {
  "interpreter": {
   "hash": "67f68a66f4cbb2a94336e8171a7e658d08398091c7cdfab3d44c1b63cd258af9"
  },
  "kernelspec": {
   "display_name": "Python 3.8.3 64-bit ('base': conda)",
   "language": "python",
   "name": "python3"
  },
  "language_info": {
   "codemirror_mode": {
    "name": "ipython",
    "version": 3
   },
   "file_extension": ".py",
   "mimetype": "text/x-python",
   "name": "python",
   "nbconvert_exporter": "python",
   "pygments_lexer": "ipython3",
   "version": "3.8.3"
  }
 },
 "nbformat": 4,
 "nbformat_minor": 5
}
